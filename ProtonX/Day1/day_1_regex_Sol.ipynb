{
  "nbformat": 4,
  "nbformat_minor": 0,
  "metadata": {
    "colab": {
      "provenance": []
    },
    "kernelspec": {
      "name": "python3",
      "display_name": "Python 3"
    },
    "language_info": {
      "name": "python"
    }
  },
  "cells": [
    {
      "cell_type": "markdown",
      "source": [
        "Tra bảng mã ASCII:"
      ],
      "metadata": {
        "id": "DmmvyQx9WD3u"
      }
    },
    {
      "cell_type": "code",
      "source": [
        "chr(9312)"
      ],
      "metadata": {
        "colab": {
          "base_uri": "https://localhost:8080/",
          "height": 35
        },
        "id": "wPGZeGqxjvDH",
        "outputId": "651b92ff-170e-410b-c88c-703c517c2f82"
      },
      "execution_count": 1,
      "outputs": [
        {
          "output_type": "execute_result",
          "data": {
            "text/plain": [
              "'①'"
            ],
            "application/vnd.google.colaboratory.intrinsic+json": {
              "type": "string"
            }
          },
          "metadata": {},
          "execution_count": 1
        }
      ]
    },
    {
      "cell_type": "code",
      "source": [
        "ord('②')"
      ],
      "metadata": {
        "colab": {
          "base_uri": "https://localhost:8080/"
        },
        "id": "oJH2us-Y_O68",
        "outputId": "5163e357-f218-4616-a257-83500775c4da"
      },
      "execution_count": null,
      "outputs": [
        {
          "output_type": "execute_result",
          "data": {
            "text/plain": [
              "9313"
            ]
          },
          "metadata": {},
          "execution_count": 5
        }
      ]
    },
    {
      "cell_type": "code",
      "source": [
        "for i in range(1, 100):\n",
        "    print(chr(i))"
      ],
      "metadata": {
        "colab": {
          "base_uri": "https://localhost:8080/"
        },
        "id": "SDBk1taL-xJn",
        "outputId": "d6c8813f-34f5-4a7e-ddb9-85d68e35a48a"
      },
      "execution_count": null,
      "outputs": [
        {
          "output_type": "stream",
          "name": "stdout",
          "text": [
            "\u0001\n",
            "\u0002\n",
            "\u0003\n",
            "\u0004\n",
            "\u0005\n",
            "\u0006\n",
            "\u0007\n",
            "\b\n",
            "\t\n",
            "\n",
            "\n",
            "\u000b\n",
            "\f\n",
            "\r\n",
            "\u000e\n",
            "\u000f\n",
            "\u0010\n",
            "\u0011\n",
            "\u0012\n",
            "\u0013\n",
            "\u0014\n",
            "\u0015\n",
            "\u0016\n",
            "\u0017\n",
            "\u0018\n",
            "\u0019\n",
            "\u001a\n",
            "\u001b\n",
            "\u001c\n",
            "\u001d\n",
            "\u001e\n",
            "\u001f\n",
            " \n",
            "!\n",
            "\"\n",
            "#\n",
            "$\n",
            "%\n",
            "&\n",
            "'\n",
            "(\n",
            ")\n",
            "*\n",
            "+\n",
            ",\n",
            "-\n",
            ".\n",
            "/\n",
            "0\n",
            "1\n",
            "2\n",
            "3\n",
            "4\n",
            "5\n",
            "6\n",
            "7\n",
            "8\n",
            "9\n",
            ":\n",
            ";\n",
            "<\n",
            "=\n",
            ">\n",
            "?\n",
            "@\n",
            "A\n",
            "B\n",
            "C\n",
            "D\n",
            "E\n",
            "F\n",
            "G\n",
            "H\n",
            "I\n",
            "J\n",
            "K\n",
            "L\n",
            "M\n",
            "N\n",
            "O\n",
            "P\n",
            "Q\n",
            "R\n",
            "S\n",
            "T\n",
            "U\n",
            "V\n",
            "W\n",
            "X\n",
            "Y\n",
            "Z\n",
            "[\n",
            "\\\n",
            "]\n",
            "^\n",
            "_\n",
            "`\n",
            "a\n",
            "b\n",
            "c\n"
          ]
        }
      ]
    },
    {
      "cell_type": "code",
      "execution_count": null,
      "metadata": {
        "colab": {
          "base_uri": "https://localhost:8080/"
        },
        "id": "NBV8VxZrV62F",
        "outputId": "3d1db35e-0ce5-412b-ddba-13ea6a23f30b"
      },
      "outputs": [
        {
          "output_type": "stream",
          "name": "stdout",
          "text": [
            "①\n",
            "②\n",
            "③\n",
            "④\n",
            "⑤\n",
            "⑥\n",
            "⑦\n",
            "⑧\n",
            "⑨\n",
            "⑩\n",
            "⑪\n",
            "⑫\n",
            "⑬\n",
            "⑭\n",
            "⑮\n",
            "⑯\n",
            "⑰\n",
            "⑱\n",
            "⑲\n",
            "⑳\n",
            "⑴\n",
            "⑵\n",
            "⑶\n",
            "⑷\n",
            "⑸\n",
            "⑹\n",
            "⑺\n",
            "⑻\n",
            "⑼\n",
            "⑽\n",
            "⑾\n",
            "⑿\n",
            "⒀\n",
            "⒁\n",
            "⒂\n",
            "⒃\n",
            "⒄\n",
            "⒅\n",
            "⒆\n",
            "⒇\n",
            "⒈\n",
            "⒉\n",
            "⒊\n",
            "⒋\n",
            "⒌\n",
            "⒍\n",
            "⒎\n",
            "⒏\n",
            "⒐\n",
            "⒑\n",
            "⒒\n",
            "⒓\n",
            "⒔\n",
            "⒕\n",
            "⒖\n",
            "⒗\n",
            "⒘\n",
            "⒙\n",
            "⒚\n",
            "⒛\n",
            "⒜\n",
            "⒝\n",
            "⒞\n",
            "⒟\n",
            "⒠\n",
            "⒡\n",
            "⒢\n",
            "⒣\n",
            "⒤\n",
            "⒥\n",
            "⒦\n",
            "⒧\n",
            "⒨\n",
            "⒩\n",
            "⒪\n",
            "⒫\n",
            "⒬\n",
            "⒭\n",
            "⒮\n",
            "⒯\n",
            "⒰\n",
            "⒱\n",
            "⒲\n",
            "⒳\n",
            "⒴\n",
            "⒵\n",
            "Ⓐ\n",
            "Ⓑ\n"
          ]
        }
      ],
      "source": [
        "for i in range(9312, 9400):\n",
        "    print(chr(i))"
      ]
    },
    {
      "cell_type": "code",
      "source": [
        "x = \"\"\"\n",
        "① Trực quầy lễ tân, tiếp đón, hướng dẫn khách đến làm việc tại công ty, xử lý hồ sơ giấy tờ chuyển phát nhanh.\n",
        "② Trực tổng đài điện thoại công ty, tiếp nhận các cuộc gọi đến, cung cấp các thông tin được hỏi hoặc chuyển đến các bộ phận liên quan.\n",
        "③ Chuẩn bị hậu cần cho các cuộc họp sự kiện, phối hợp các bộ phận liên quan tổ chức các sự kiện công ty.\n",
        "④ Thực hiện các nhiệm vụ khác theo sự phân công của Trưởng phòng và lãnh đạo công ty.\n",
        "\"\"\"\n",
        "\n",
        "for i in range(9312, 9332):\n",
        "    print(chr(i))\n",
        "    x = x.replace(chr(i), '-')\n",
        "\n",
        "print(x)"
      ],
      "metadata": {
        "colab": {
          "base_uri": "https://localhost:8080/"
        },
        "id": "iN-NHCWTV-us",
        "outputId": "b168b18c-b875-455c-c952-5c41307e8093"
      },
      "execution_count": null,
      "outputs": [
        {
          "output_type": "stream",
          "name": "stdout",
          "text": [
            "①\n",
            "②\n",
            "③\n",
            "④\n",
            "⑤\n",
            "⑥\n",
            "⑦\n",
            "⑧\n",
            "⑨\n",
            "⑩\n",
            "⑪\n",
            "⑫\n",
            "⑬\n",
            "⑭\n",
            "⑮\n",
            "⑯\n",
            "⑰\n",
            "⑱\n",
            "⑲\n",
            "⑳\n",
            "\n",
            "- Trực quầy lễ tân, tiếp đón, hướng dẫn khách đến làm việc tại công ty, xử lý hồ sơ giấy tờ chuyển phát nhanh.\n",
            "- Trực tổng đài điện thoại công ty, tiếp nhận các cuộc gọi đến, cung cấp các thông tin được hỏi hoặc chuyển đến các bộ phận liên quan.\n",
            "- Chuẩn bị hậu cần cho các cuộc họp sự kiện, phối hợp các bộ phận liên quan tổ chức các sự kiện công ty.\n",
            "- Thực hiện các nhiệm vụ khác theo sự phân công của Trưởng phòng và lãnh đạo công ty.\n",
            "\n"
          ]
        }
      ]
    },
    {
      "cell_type": "code",
      "source": [
        "- Trực quầy lễ tân, tiếp đón, hướng dẫn khách đến làm việc tại công ty, xử lý hồ sơ giấy tờ chuyển phát nhanh.\n",
        "- Trực tổng đài điện thoại công ty, tiếp nhận các cuộc gọi đến, cung cấp các thông tin được hỏi hoặc chuyển đến các bộ phận liên quan.\n",
        "- Chuẩn bị hậu cần cho các cuộc họp sự kiện, phối hợp các bộ phận liên quan tổ chức các sự kiện công ty.\n",
        "- Thực hiện các nhiệm vụ khác theo sự phân công của Trưởng phòng và lãnh đạo công ty.\n",
        "\n",
        "1) Trực quầy lễ tân, tiếp đón, hướng dẫn khách đến làm việc tại công ty, xử lý hồ sơ giấy tờ chuyển phát nhanh.\n",
        "2) Trực tổng đài điện thoại công ty, tiếp nhận các cuộc gọi đến, cung cấp các thông tin được hỏi hoặc chuyển đến các bộ phận liên quan.\n",
        "3) Chuẩn bị hậu cần cho các cuộc họp sự kiện, phối hợp các bộ phận liên quan tổ chức các sự kiện công ty.\n",
        "4) Thực hiện các nhiệm vụ khác theo sự phân công của Trưởng phòng và lãnh đạo công ty.\n"
      ],
      "metadata": {
        "id": "PJQEXh5IWa2o"
      },
      "execution_count": null,
      "outputs": []
    }
  ]
}