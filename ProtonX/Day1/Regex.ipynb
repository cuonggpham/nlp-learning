{
  "nbformat": 4,
  "nbformat_minor": 0,
  "metadata": {
    "colab": {
      "provenance": []
    },
    "kernelspec": {
      "name": "python3",
      "display_name": "Python 3"
    },
    "language_info": {
      "name": "python"
    }
  },
  "cells": [
    {
      "cell_type": "markdown",
      "source": [
        "Hàm tìm kiếm một chuỗi con khớp mẫu"
      ],
      "metadata": {
        "id": "HJFc3eVCaAXi"
      }
    },
    {
      "cell_type": "code",
      "execution_count": 1,
      "metadata": {
        "colab": {
          "base_uri": "https://localhost:8080/"
        },
        "id": "_ub_moQHZ_dk",
        "outputId": "dfc38d3c-83e6-499c-b7af-2fe51989fce1"
      },
      "outputs": [
        {
          "output_type": "execute_result",
          "data": {
            "text/plain": [
              "<re.Match object; span=(26, 30), match='đồng'>"
            ]
          },
          "metadata": {},
          "execution_count": 1
        }
      ],
      "source": [
        "import re\n",
        "parent_string = 'Con chó đang đi chơi trên đồng. Có con trâu trên đồng. Đồng nay đẹp quá'\n",
        "pattern = 'đồng'\n",
        "\n",
        "re.search(pattern, parent_string)"
      ]
    },
    {
      "cell_type": "code",
      "source": [
        "parent_string[26:30]"
      ],
      "metadata": {
        "colab": {
          "base_uri": "https://localhost:8080/",
          "height": 35
        },
        "id": "zF37IHQPid_M",
        "outputId": "5381a348-8d62-4b00-e89f-72e42a70c6c0"
      },
      "execution_count": 2,
      "outputs": [
        {
          "output_type": "execute_result",
          "data": {
            "text/plain": [
              "'đồng'"
            ],
            "application/vnd.google.colaboratory.intrinsic+json": {
              "type": "string"
            }
          },
          "metadata": {},
          "execution_count": 2
        }
      ]
    },
    {
      "cell_type": "markdown",
      "source": [
        "Hàm tìm kiếm tất cả chuỗi con khớp mẫu"
      ],
      "metadata": {
        "id": "xuN9U9H9aM-r"
      }
    },
    {
      "cell_type": "code",
      "source": [
        "import re\n",
        "parent_string = 'Con chó đang đi chơi trên đồng. Có con trâu trên đồng. Đồng nay đẹp quá'\n",
        "pattern = 'đồng'\n",
        "\n",
        "re.findall(pattern, parent_string)"
      ],
      "metadata": {
        "colab": {
          "base_uri": "https://localhost:8080/"
        },
        "id": "4yIk2CuuaOwF",
        "outputId": "8593558d-63ad-46fc-83d6-88e604bc59c1"
      },
      "execution_count": 3,
      "outputs": [
        {
          "output_type": "execute_result",
          "data": {
            "text/plain": [
              "['đồng', 'đồng']"
            ]
          },
          "metadata": {},
          "execution_count": 3
        }
      ]
    },
    {
      "cell_type": "markdown",
      "source": [
        "Tuy nhiên hàm này lại không trả về span - chỉ mục đầu cuối của các chuỗi con, nên bạn có thể sử dụng hàm finditer để thay thế"
      ],
      "metadata": {
        "id": "lFpau7S6bVD9"
      }
    },
    {
      "cell_type": "code",
      "source": [
        "matches = re.finditer(pattern, parent_string)\n",
        "for match in matches:\n",
        "    span = match.span()\n",
        "    print(f\"Match at: {span}, string: {parent_string[span[0]:span[1]]}\")"
      ],
      "metadata": {
        "colab": {
          "base_uri": "https://localhost:8080/"
        },
        "id": "YfZ5350Cbdvm",
        "outputId": "b509b601-edbd-4112-be0b-07f0fd6ea5ea"
      },
      "execution_count": 4,
      "outputs": [
        {
          "output_type": "stream",
          "name": "stdout",
          "text": [
            "Match at: (26, 30), string: đồng\n",
            "Match at: (49, 53), string: đồng\n"
          ]
        }
      ]
    },
    {
      "cell_type": "markdown",
      "source": [
        "Mẫu lựa chọn"
      ],
      "metadata": {
        "id": "n0sc3l7LboO9"
      }
    },
    {
      "cell_type": "code",
      "source": [
        "import re\n",
        "parent_string = 'Con chó đang đi chơi trên đồng. Có con trâu trên đồng. Đồng nay đẹp quá'\n",
        "pattern = '[đĐ]ồng'\n",
        "\n",
        "re.findall(pattern, parent_string)"
      ],
      "metadata": {
        "colab": {
          "base_uri": "https://localhost:8080/"
        },
        "id": "u2cQvROfbpvV",
        "outputId": "917c82b9-68c6-41a7-b255-3c5451b42440"
      },
      "execution_count": 5,
      "outputs": [
        {
          "output_type": "execute_result",
          "data": {
            "text/plain": [
              "['đồng', 'đồng', 'Đồng']"
            ]
          },
          "metadata": {},
          "execution_count": 5
        }
      ]
    },
    {
      "cell_type": "code",
      "source": [
        "import re\n",
        "parent_string = 'Tin anh đi 1 năm nữa anh sẽ trở thành 100 phú'\n",
        "pattern = '[1-100]'\n",
        "\n",
        "re.findall(pattern, parent_string)"
      ],
      "metadata": {
        "colab": {
          "base_uri": "https://localhost:8080/"
        },
        "id": "kbUbWZ6MdCl5",
        "outputId": "b35f84a5-fd5a-4a0e-dbba-88f2387d9e66"
      },
      "execution_count": 6,
      "outputs": [
        {
          "output_type": "execute_result",
          "data": {
            "text/plain": [
              "['1', '1', '0', '0']"
            ]
          },
          "metadata": {},
          "execution_count": 6
        }
      ]
    },
    {
      "cell_type": "markdown",
      "source": [
        "Trường hợp phức tạp"
      ],
      "metadata": {
        "id": "cLoeDnhXm7jL"
      }
    },
    {
      "cell_type": "code",
      "source": [
        "import re\n",
        "parent_string = '1 2 3 4 5 6 7 8 9 10 11 12 13 14 15 16 17 18 19 20'\n",
        "pattern = '1[1-4]'\n",
        "\n",
        "re.findall(pattern, parent_string)"
      ],
      "metadata": {
        "colab": {
          "base_uri": "https://localhost:8080/"
        },
        "id": "ZacOJWQVm9G7",
        "outputId": "f79ba9fc-3d9c-4fd9-c3b4-4f91afeb66b8"
      },
      "execution_count": 7,
      "outputs": [
        {
          "output_type": "execute_result",
          "data": {
            "text/plain": [
              "['11', '12', '13', '14']"
            ]
          },
          "metadata": {},
          "execution_count": 7
        }
      ]
    },
    {
      "cell_type": "markdown",
      "source": [
        "Hàm thay thế tất cả chuỗi con khớp mẫu"
      ],
      "metadata": {
        "id": "_PZTqS-Naati"
      }
    },
    {
      "cell_type": "code",
      "source": [
        "import re\n",
        "parent_string = 'Con chó đang đi chơi trên đồng. Có con trâu trên đồng. Đồng nay đẹp quá'\n",
        "pattern = 'đồng'\n",
        "\n",
        "re.sub(pattern, 'casino', parent_string)"
      ],
      "metadata": {
        "colab": {
          "base_uri": "https://localhost:8080/",
          "height": 35
        },
        "id": "HEr4S9jbaRfu",
        "outputId": "adbb8c4a-4937-4b1b-c39c-9ee7f2bd9755"
      },
      "execution_count": 8,
      "outputs": [
        {
          "output_type": "execute_result",
          "data": {
            "text/plain": [
              "'Con chó đang đi chơi trên casino. Có con trâu trên casino. Đồng nay đẹp quá'"
            ],
            "application/vnd.google.colaboratory.intrinsic+json": {
              "type": "string"
            }
          },
          "metadata": {},
          "execution_count": 8
        }
      ]
    },
    {
      "cell_type": "markdown",
      "source": [
        "Hàm chia chuỗi thành nhiều chuỗi con theo mẫu"
      ],
      "metadata": {
        "id": "ja9Au9AaarB5"
      }
    },
    {
      "cell_type": "code",
      "source": [
        "parent_string = 'Mật***khẩu**của*****bạn***không*được****rỗng'\n",
        "pattern = '\\*+'\n",
        "\n",
        "re.split(pattern, parent_string)"
      ],
      "metadata": {
        "colab": {
          "base_uri": "https://localhost:8080/"
        },
        "id": "M6cpUrRxafNl",
        "outputId": "2e178e79-965c-491f-ca13-bda3f0f196f6"
      },
      "execution_count": 9,
      "outputs": [
        {
          "output_type": "execute_result",
          "data": {
            "text/plain": [
              "['Mật', 'khẩu', 'của', 'bạn', 'không', 'được', 'rỗng']"
            ]
          },
          "metadata": {},
          "execution_count": 9
        }
      ]
    },
    {
      "cell_type": "code",
      "source": [
        "parent_string = \"\"\"\n",
        "\n",
        "\n",
        "mat\n",
        "\n",
        "\n",
        "\n",
        "khau\n",
        "\n",
        "\n",
        "\n",
        "\n",
        "\n",
        "\n",
        "\n",
        "\n",
        "\n",
        "\n",
        "\n",
        "\n",
        "\"\"\"\n",
        "pattern = '\\s+'\n",
        "\n",
        "re.sub(pattern, ' ', parent_string).strip()"
      ],
      "metadata": {
        "id": "GLgVwEyMbBHX",
        "colab": {
          "base_uri": "https://localhost:8080/",
          "height": 35
        },
        "outputId": "848cd609-d9dd-4e84-8a3e-42fb0aa00c5d"
      },
      "execution_count": 10,
      "outputs": [
        {
          "output_type": "execute_result",
          "data": {
            "text/plain": [
              "'mat khau'"
            ],
            "application/vnd.google.colaboratory.intrinsic+json": {
              "type": "string"
            }
          },
          "metadata": {},
          "execution_count": 10
        }
      ]
    },
    {
      "cell_type": "code",
      "source": [],
      "metadata": {
        "id": "O3QHKHGTzJYy"
      },
      "execution_count": null,
      "outputs": []
    }
  ]
}