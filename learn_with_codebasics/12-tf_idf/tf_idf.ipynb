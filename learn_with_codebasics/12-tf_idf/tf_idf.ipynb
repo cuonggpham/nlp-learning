{
 "cells": [
  {
   "cell_type": "markdown",
   "metadata": {},
   "source": [
    "### What is TF-IDF?\n",
    "- TF stands for **Term Frequency** and denotes the ratio of  number of times a particular word appeared in a Document to total number of words in the document.\n",
    "\n",
    "        Term Frequency(TF) = [number of times word appeared / total no of words in a document],\n",
    "- Term Frequency values ranges between 0 and 1. If a word occurs more number of times, then it's value will be close to 1.\n",
    "- IDF stands for **Inverse Document Frequency** and denotes the log of ratio of total number of documents/datapoints in the whole dataset to the number of documents that contains the particular word.\n",
    "\n",
    "        Inverse Document Frequency(IDF) = [log(Total number of documents / number of documents that contains the word)],\n",
    "- In IDF, if a word occured in more number of documents and is common across all documents, then it's value will be less and ratio will approaches to 0. \n",
    "- Finally:\n",
    "\n",
    "        TF-IDF = Term Frequency(TF) * Inverse Document Frequency(IDF)"
   ]
  },
  {
   "cell_type": "markdown",
   "metadata": {},
   "source": [
    "***Demo***"
   ]
  },
  {
   "cell_type": "code",
   "execution_count": 2,
   "metadata": {},
   "outputs": [],
   "source": [
    "from sklearn.feature_extraction.text import TfidfVectorizer\n",
    "\n",
    "corpus = [\n",
    "    \"Thor eating pizza, Loki is eating pizza, Ironman ate pizza already\",\n",
    "    \"Apple is announcing new iphone tomorrow\",\n",
    "    \"Tesla is announcing new model-3 tomorrow\",\n",
    "    \"Google is announcing new pixel-6 tomorrow\",\n",
    "    \"Microsoft is announcing new surface tomorrow\",\n",
    "    \"Amazon is announcing new eco-dot tomorrow\",\n",
    "    \"I am eating biryani and you are eating grapes\"\n",
    "]"
   ]
  },
  {
   "cell_type": "code",
   "execution_count": 3,
   "metadata": {},
   "outputs": [],
   "source": [
    "#let's create the vectorizer and fit the corpus and transform them accordingly\n",
    "v = TfidfVectorizer() # create the vectorizer\n",
    "v.fit(corpus) \n",
    "transform_output = v.transform(corpus) # Chuyển đổi corpus thành ma trận TF-IDF"
   ]
  },
  {
   "cell_type": "code",
   "execution_count": 4,
   "metadata": {},
   "outputs": [
    {
     "name": "stdout",
     "output_type": "stream",
     "text": [
      "{'thor': 25, 'eating': 10, 'pizza': 22, 'loki': 17, 'is': 16, 'ironman': 15, 'ate': 7, 'already': 0, 'apple': 5, 'announcing': 4, 'new': 20, 'iphone': 14, 'tomorrow': 26, 'tesla': 24, 'model': 19, 'google': 12, 'pixel': 21, 'microsoft': 18, 'surface': 23, 'amazon': 2, 'eco': 11, 'dot': 9, 'am': 1, 'biryani': 8, 'and': 3, 'you': 27, 'are': 6, 'grapes': 13}\n"
     ]
    }
   ],
   "source": [
    "print(v.vocabulary_)"
   ]
  },
  {
   "cell_type": "code",
   "execution_count": 6,
   "metadata": {},
   "outputs": [
    {
     "name": "stdout",
     "output_type": "stream",
     "text": [
      "Word: already - Index: 0 - IDF: 2.386294361119891\n",
      "Word: am - Index: 1 - IDF: 2.386294361119891\n",
      "Word: amazon - Index: 2 - IDF: 2.386294361119891\n",
      "Word: and - Index: 3 - IDF: 2.386294361119891\n",
      "Word: announcing - Index: 4 - IDF: 1.2876820724517808\n",
      "Word: apple - Index: 5 - IDF: 2.386294361119891\n",
      "Word: are - Index: 6 - IDF: 2.386294361119891\n",
      "Word: ate - Index: 7 - IDF: 2.386294361119891\n",
      "Word: biryani - Index: 8 - IDF: 2.386294361119891\n",
      "Word: dot - Index: 9 - IDF: 2.386294361119891\n",
      "Word: eating - Index: 10 - IDF: 1.9808292530117262\n",
      "Word: eco - Index: 11 - IDF: 2.386294361119891\n",
      "Word: google - Index: 12 - IDF: 2.386294361119891\n",
      "Word: grapes - Index: 13 - IDF: 2.386294361119891\n",
      "Word: iphone - Index: 14 - IDF: 2.386294361119891\n",
      "Word: ironman - Index: 15 - IDF: 2.386294361119891\n",
      "Word: is - Index: 16 - IDF: 1.1335313926245225\n",
      "Word: loki - Index: 17 - IDF: 2.386294361119891\n",
      "Word: microsoft - Index: 18 - IDF: 2.386294361119891\n",
      "Word: model - Index: 19 - IDF: 2.386294361119891\n",
      "Word: new - Index: 20 - IDF: 1.2876820724517808\n",
      "Word: pixel - Index: 21 - IDF: 2.386294361119891\n",
      "Word: pizza - Index: 22 - IDF: 2.386294361119891\n",
      "Word: surface - Index: 23 - IDF: 2.386294361119891\n",
      "Word: tesla - Index: 24 - IDF: 2.386294361119891\n",
      "Word: thor - Index: 25 - IDF: 2.386294361119891\n",
      "Word: tomorrow - Index: 26 - IDF: 1.2876820724517808\n",
      "Word: you - Index: 27 - IDF: 2.386294361119891\n"
     ]
    }
   ],
   "source": [
    "all_feature_names = v.get_feature_names_out() # get all feature names\n",
    "\n",
    "for word in all_feature_names: \n",
    "    indx = v.vocabulary_.get(word)\n",
    "\n",
    "    idf_score = v.idf_[indx]\n",
    "\n",
    "    print(f\"Word: {word} - Index: {indx} - IDF: {idf_score}\")"
   ]
  },
  {
   "cell_type": "code",
   "execution_count": 8,
   "metadata": {},
   "outputs": [
    {
     "name": "stdout",
     "output_type": "stream",
     "text": [
      "[[0.24266547 0.         0.         0.         0.         0.\n",
      "  0.         0.24266547 0.         0.         0.40286636 0.\n",
      "  0.         0.         0.         0.24266547 0.11527033 0.24266547\n",
      "  0.         0.         0.         0.         0.72799642 0.\n",
      "  0.         0.24266547 0.         0.        ]\n",
      " [0.         0.         0.         0.         0.30652086 0.5680354\n",
      "  0.         0.         0.         0.         0.         0.\n",
      "  0.         0.         0.5680354  0.         0.26982671 0.\n",
      "  0.         0.         0.30652086 0.         0.         0.\n",
      "  0.         0.         0.30652086 0.        ]\n",
      " [0.         0.         0.         0.         0.30652086 0.\n",
      "  0.         0.         0.         0.         0.         0.\n",
      "  0.         0.         0.         0.         0.26982671 0.\n",
      "  0.         0.5680354  0.30652086 0.         0.         0.\n",
      "  0.5680354  0.         0.30652086 0.        ]\n",
      " [0.         0.         0.         0.         0.30652086 0.\n",
      "  0.         0.         0.         0.         0.         0.\n",
      "  0.5680354  0.         0.         0.         0.26982671 0.\n",
      "  0.         0.         0.30652086 0.5680354  0.         0.\n",
      "  0.         0.         0.30652086 0.        ]\n",
      " [0.         0.         0.         0.         0.30652086 0.\n",
      "  0.         0.         0.         0.         0.         0.\n",
      "  0.         0.         0.         0.         0.26982671 0.\n",
      "  0.5680354  0.         0.30652086 0.         0.         0.5680354\n",
      "  0.         0.         0.30652086 0.        ]\n",
      " [0.         0.         0.49391316 0.         0.26652333 0.\n",
      "  0.         0.         0.         0.49391316 0.         0.49391316\n",
      "  0.         0.         0.         0.         0.23461736 0.\n",
      "  0.         0.         0.26652333 0.         0.         0.\n",
      "  0.         0.         0.26652333 0.        ]\n",
      " [0.         0.33794257 0.         0.33794257 0.         0.\n",
      "  0.33794257 0.         0.33794257 0.         0.56104271 0.\n",
      "  0.         0.33794257 0.         0.         0.         0.\n",
      "  0.         0.         0.         0.         0.         0.\n",
      "  0.         0.         0.         0.33794257]]\n"
     ]
    }
   ],
   "source": [
    "print(transform_output.toarray()) # in ra ma trận TF-IDF"
   ]
  }
 ],
 "metadata": {
  "kernelspec": {
   "display_name": "env",
   "language": "python",
   "name": "python3"
  },
  "language_info": {
   "codemirror_mode": {
    "name": "ipython",
    "version": 3
   },
   "file_extension": ".py",
   "mimetype": "text/x-python",
   "name": "python",
   "nbconvert_exporter": "python",
   "pygments_lexer": "ipython3",
   "version": "3.12.5"
  }
 },
 "nbformat": 4,
 "nbformat_minor": 2
}
