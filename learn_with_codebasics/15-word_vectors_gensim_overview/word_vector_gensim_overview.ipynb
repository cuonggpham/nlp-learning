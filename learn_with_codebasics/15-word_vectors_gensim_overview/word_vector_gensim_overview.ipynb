{
  "nbformat": 4,
  "nbformat_minor": 0,
  "metadata": {
    "colab": {
      "provenance": []
    },
    "kernelspec": {
      "name": "python3",
      "display_name": "Python 3"
    },
    "language_info": {
      "name": "python"
    }
  },
  "cells": [
    {
      "cell_type": "code",
      "execution_count": 2,
      "metadata": {
        "colab": {
          "base_uri": "https://localhost:8080/"
        },
        "id": "4OQW7nGEB-ht",
        "outputId": "6e83df7c-cc26-4d17-bc5f-eff611121dae"
      },
      "outputs": [
        {
          "output_type": "stream",
          "name": "stdout",
          "text": [
            "[==================================================] 100.0% 1662.8/1662.8MB downloaded\n"
          ]
        }
      ],
      "source": [
        "import gensim.downloader as api\n",
        "\n",
        "wv = api.load('word2vec-google-news-300')"
      ]
    },
    {
      "cell_type": "code",
      "source": [
        "wv.similarity(w1=\"great\", w2=\"good\") #cosine similarity"
      ],
      "metadata": {
        "colab": {
          "base_uri": "https://localhost:8080/"
        },
        "id": "lKO63_VGWBDY",
        "outputId": "5bd6bd83-fe00-484b-8adf-729ea0033ae5"
      },
      "execution_count": 3,
      "outputs": [
        {
          "output_type": "execute_result",
          "data": {
            "text/plain": [
              "0.729151"
            ]
          },
          "metadata": {},
          "execution_count": 3
        }
      ]
    },
    {
      "cell_type": "code",
      "source": [
        "wv.most_similar(\"good\")"
      ],
      "metadata": {
        "colab": {
          "base_uri": "https://localhost:8080/"
        },
        "id": "jz6IMCDUZMXE",
        "outputId": "10686616-59a2-4302-9b3f-56d7eae098d0"
      },
      "execution_count": 4,
      "outputs": [
        {
          "output_type": "execute_result",
          "data": {
            "text/plain": [
              "[('great', 0.7291510105133057),\n",
              " ('bad', 0.7190051078796387),\n",
              " ('terrific', 0.6889115571975708),\n",
              " ('decent', 0.6837348341941833),\n",
              " ('nice', 0.6836092472076416),\n",
              " ('excellent', 0.644292950630188),\n",
              " ('fantastic', 0.6407778263092041),\n",
              " ('better', 0.6120728850364685),\n",
              " ('solid', 0.5806034803390503),\n",
              " ('lousy', 0.576420247554779)]"
            ]
          },
          "metadata": {},
          "execution_count": 4
        }
      ]
    },
    {
      "cell_type": "code",
      "source": [
        "wv.most_similar(\"dog\")"
      ],
      "metadata": {
        "colab": {
          "base_uri": "https://localhost:8080/"
        },
        "id": "aIXuswMEZWhW",
        "outputId": "162725b3-5e2b-45d2-f0c8-52e8a8c7b2d8"
      },
      "execution_count": 6,
      "outputs": [
        {
          "output_type": "execute_result",
          "data": {
            "text/plain": [
              "[('dogs', 0.8680489659309387),\n",
              " ('puppy', 0.8106428384780884),\n",
              " ('pit_bull', 0.780396044254303),\n",
              " ('pooch', 0.7627376914024353),\n",
              " ('cat', 0.7609457969665527),\n",
              " ('golden_retriever', 0.7500901818275452),\n",
              " ('German_shepherd', 0.7465174198150635),\n",
              " ('Rottweiler', 0.7437615394592285),\n",
              " ('beagle', 0.7418621778488159),\n",
              " ('pup', 0.740691065788269)]"
            ]
          },
          "metadata": {},
          "execution_count": 6
        }
      ]
    },
    {
      "cell_type": "code",
      "source": [
        "wv.most_similar(positive=['king', 'woman'], negative=['man'], topn=5)"
      ],
      "metadata": {
        "colab": {
          "base_uri": "https://localhost:8080/"
        },
        "id": "x1AanTSwZgbP",
        "outputId": "db3e5880-acc1-4ee4-ceef-eb820e1de7c1"
      },
      "execution_count": 7,
      "outputs": [
        {
          "output_type": "execute_result",
          "data": {
            "text/plain": [
              "[('queen', 0.7118193507194519),\n",
              " ('monarch', 0.6189674139022827),\n",
              " ('princess', 0.5902431011199951),\n",
              " ('crown_prince', 0.5499460697174072),\n",
              " ('prince', 0.5377321839332581)]"
            ]
          },
          "metadata": {},
          "execution_count": 7
        }
      ]
    },
    {
      "cell_type": "code",
      "source": [
        "wv.most_similar(positive=['france', 'berlin'], negative=['paris'], topn=5)"
      ],
      "metadata": {
        "colab": {
          "base_uri": "https://localhost:8080/"
        },
        "id": "I1Lwe3pUcQe0",
        "outputId": "e20102e3-7df9-49f0-a141-58f2dc82fba8"
      },
      "execution_count": 8,
      "outputs": [
        {
          "output_type": "execute_result",
          "data": {
            "text/plain": [
              "[('germany', 0.5094343423843384),\n",
              " ('european', 0.48650455474853516),\n",
              " ('german', 0.4714890420436859),\n",
              " ('austria', 0.46964022517204285),\n",
              " ('swedish', 0.4645182490348816)]"
            ]
          },
          "metadata": {},
          "execution_count": 8
        }
      ]
    },
    {
      "cell_type": "code",
      "source": [
        "wv.doesnt_match([\"facebook\", \"cat\", \"google\", \"microsoft\"])"
      ],
      "metadata": {
        "colab": {
          "base_uri": "https://localhost:8080/",
          "height": 36
        },
        "id": "qFKKgNZccrMN",
        "outputId": "920096af-d561-4f0f-8239-7755a341972e"
      },
      "execution_count": 9,
      "outputs": [
        {
          "output_type": "execute_result",
          "data": {
            "text/plain": [
              "'cat'"
            ],
            "application/vnd.google.colaboratory.intrinsic+json": {
              "type": "string"
            }
          },
          "metadata": {},
          "execution_count": 9
        }
      ]
    },
    {
      "cell_type": "code",
      "source": [
        "wv.doesnt_match([\"dog\", \"cat\", \"google\", \"mouse\"])"
      ],
      "metadata": {
        "colab": {
          "base_uri": "https://localhost:8080/",
          "height": 36
        },
        "id": "e-jv23sZct0B",
        "outputId": "cb109d3c-2a4b-4411-b59b-91f464d76f2e"
      },
      "execution_count": 10,
      "outputs": [
        {
          "output_type": "execute_result",
          "data": {
            "text/plain": [
              "'google'"
            ],
            "application/vnd.google.colaboratory.intrinsic+json": {
              "type": "string"
            }
          },
          "metadata": {},
          "execution_count": 10
        }
      ]
    },
    {
      "cell_type": "markdown",
      "source": [
        "**Gensim: Glove**"
      ],
      "metadata": {
        "id": "OXXQnJZuc1GC"
      }
    },
    {
      "cell_type": "code",
      "source": [
        "glv = api.load(\"glove-twitter-25\")"
      ],
      "metadata": {
        "colab": {
          "base_uri": "https://localhost:8080/"
        },
        "id": "97Sp7pXmczvL",
        "outputId": "c2852bd0-b91e-4df9-ba90-4ea936d1a935"
      },
      "execution_count": 11,
      "outputs": [
        {
          "output_type": "stream",
          "name": "stdout",
          "text": [
            "[==================================================] 100.0% 104.8/104.8MB downloaded\n"
          ]
        }
      ]
    },
    {
      "cell_type": "code",
      "source": [
        "glv.most_similar(\"good\")"
      ],
      "metadata": {
        "colab": {
          "base_uri": "https://localhost:8080/"
        },
        "id": "yS_U_CIid8Qd",
        "outputId": "83c1d419-ec03-4b8e-f9fc-201c06ce29f7"
      },
      "execution_count": 12,
      "outputs": [
        {
          "output_type": "execute_result",
          "data": {
            "text/plain": [
              "[('too', 0.9648017287254333),\n",
              " ('day', 0.9533665180206299),\n",
              " ('well', 0.9503170847892761),\n",
              " ('nice', 0.9438973665237427),\n",
              " ('better', 0.9425962567329407),\n",
              " ('fun', 0.9418926239013672),\n",
              " ('much', 0.9413353800773621),\n",
              " ('this', 0.9387555122375488),\n",
              " ('hope', 0.9383506774902344),\n",
              " ('great', 0.9378516674041748)]"
            ]
          },
          "metadata": {},
          "execution_count": 12
        }
      ]
    },
    {
      "cell_type": "code",
      "source": [
        "glv.doesnt_match(\"facebook cat google microsoft\".split())"
      ],
      "metadata": {
        "id": "6ysVwLwReGAQ",
        "outputId": "4dabcdf3-eb2f-4574-9dee-b131a738e6bd",
        "colab": {
          "base_uri": "https://localhost:8080/",
          "height": 36
        }
      },
      "execution_count": 13,
      "outputs": [
        {
          "output_type": "execute_result",
          "data": {
            "text/plain": [
              "'cat'"
            ],
            "application/vnd.google.colaboratory.intrinsic+json": {
              "type": "string"
            }
          },
          "metadata": {},
          "execution_count": 13
        }
      ]
    }
  ]
}