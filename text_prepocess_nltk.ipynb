{
 "cells": [
  {
   "cell_type": "markdown",
   "metadata": {},
   "source": [
    "Tách từ Romeo & Juliet"
   ]
  },
  {
   "cell_type": "code",
   "execution_count": 2,
   "metadata": {},
   "outputs": [],
   "source": [
    "with open(\"romeo_juliet.txt\", encoding='utf-8-sig') as f:\n",
    "    raw_text = f.read()"
   ]
  },
  {
   "cell_type": "code",
   "execution_count": 6,
   "metadata": {},
   "outputs": [],
   "source": [
    "#Loại bỏ các ký tự xuống dòng\n",
    "raw_text = raw_text.replace(\"\\n\", \" \") "
   ]
  },
  {
   "cell_type": "code",
   "execution_count": 7,
   "metadata": {},
   "outputs": [],
   "source": [
    "#Chuyển tất cả về chữ thường\n",
    "raw_text = raw_text.lower() "
   ]
  },
  {
   "cell_type": "code",
   "execution_count": 8,
   "metadata": {},
   "outputs": [
    {
     "name": "stdout",
     "output_type": "stream",
     "text": [
      "Number of sentences: 3147\n",
      "---------------------------------------\n",
      "while we were interchanging thrusts and blows came more and more, and fought on part and part, till the prince came, who parted either part.\n",
      "-----\n",
      "lady montague.\n",
      "-----\n",
      "o where is romeo, saw you him today?\n",
      "-----\n",
      "right glad i am he was not at this fray.\n",
      "-----\n",
      "benvolio.\n",
      "-----\n",
      "madam, an hour before the worshipp’d sun peer’d forth the golden window of the east, a troubled mind drave me to walk abroad, where underneath the grove of sycamore that westward rooteth from this city side, so early walking did i see your son.\n",
      "-----\n",
      "towards him i made, but he was ware of me, and stole into the covert of the wood.\n",
      "-----\n",
      "i, measuring his affections by my own, which then most sought where most might not be found, being one too many by my weary self, pursu’d my humour, not pursuing his, and gladly shunn’d who gladly fled from me.\n",
      "-----\n",
      "montague.\n",
      "-----\n",
      "many a morning hath he there been seen, with tears augmenting the fresh morning’s dew, adding to clouds more clouds with his deep sighs; but all so soon as the all-cheering sun should in the farthest east begin to draw the shady curtains from aurora’s bed, away from light steals home my heavy son, and private in his chamber pens himself, shuts up his windows, locks fair daylight out and makes himself an artificial night.\n",
      "-----\n"
     ]
    }
   ],
   "source": [
    "# Tách câu\n",
    "import nltk\n",
    "\n",
    "sentence_list = nltk.sent_tokenize(raw_text)\n",
    "\n",
    "print(f\"Number of sentences: {len(sentence_list)}\") #In ra số câu trong văn bản\n",
    "print(\"---------------------------------------\") \n",
    "\n",
    "\n",
    "for i in range(220, 230):\n",
    "  print(sentence_list[i])\n",
    "  print(\"-----\")\n"
   ]
  },
  {
   "cell_type": "code",
   "execution_count": 9,
   "metadata": {},
   "outputs": [
    {
     "name": "stdout",
     "output_type": "stream",
     "text": [
      "Punctuations: !\"#$%&'()*+,-./:;<=>?@[\\]^_`{|}~\n",
      "\n",
      "---------------------------------------\n",
      "while we were interchanging thrusts and blows came more and more and fought on part and part till the prince came who parted either part\n",
      "-----\n",
      "lady montague\n",
      "-----\n",
      "o where is romeo saw you him today\n",
      "-----\n",
      "right glad i am he was not at this fray\n",
      "-----\n",
      "benvolio\n",
      "-----\n",
      "madam an hour before the worshipp’d sun peer’d forth the golden window of the east a troubled mind drave me to walk abroad where underneath the grove of sycamore that westward rooteth from this city side so early walking did i see your son\n",
      "-----\n",
      "towards him i made but he was ware of me and stole into the covert of the wood\n",
      "-----\n",
      "i measuring his affections by my own which then most sought where most might not be found being one too many by my weary self pursu’d my humour not pursuing his and gladly shunn’d who gladly fled from me\n",
      "-----\n",
      "montague\n",
      "-----\n",
      "many a morning hath he there been seen with tears augmenting the fresh morning’s dew adding to clouds more clouds with his deep sighs but all so soon as the allcheering sun should in the farthest east begin to draw the shady curtains from aurora’s bed away from light steals home my heavy son and private in his chamber pens himself shuts up his windows locks fair daylight out and makes himself an artificial night\n",
      "-----\n"
     ]
    }
   ],
   "source": [
    "import string\n",
    "print(\"Punctuations: \" + string.punctuation + \"\\n\")\n",
    "print(\"---------------------------------------\")\n",
    "\n",
    "# Loại bỏ các dấu câu\n",
    "sentence_list = [sentence.translate(str.maketrans('', '', string.punctuation)) for sentence in sentence_list]\n",
    "\n",
    "for i in range(220, 230):\n",
    "  print(sentence_list[i])\n",
    "  print(\"-----\")\n"
   ]
  },
  {
   "cell_type": "code",
   "execution_count": 10,
   "metadata": {},
   "outputs": [
    {
     "name": "stdout",
     "output_type": "stream",
     "text": [
      "{'about', 'what', \"doesn't\", \"that'll\", \"won't\", 'it', \"you'll\", \"you've\", 'or', 'in', 'ma', 's', 'ours', 'him', 'has', 'them', \"needn't\", 'yourself', 'does', 'from', 'any', 'just', \"wasn't\", 'themselves', 'being', 'so', 'too', 'her', 'won', \"should've\", 'hasn', 'have', 'own', 'very', 'for', 'each', \"isn't\", 'your', 'mustn', 'which', 'not', 're', 'hers', 'be', 'off', 'we', 'while', 'shouldn', 'couldn', 'to', 'then', 'd', 'over', 'itself', 'into', 've', 'you', 'few', 'this', 'the', 'again', 'hadn', 'my', 'his', 'such', 'are', 'its', 'here', 'why', \"shouldn't\", 'can', 'now', 'yourselves', 'do', 'didn', \"mustn't\", 'against', 'himself', 'their', 'by', 'should', 'at', 'wasn', 'some', 'was', 'same', 'no', 'theirs', \"she's\", 'herself', 'our', 'and', 'during', 'whom', 'because', 'after', 'he', 'll', \"couldn't\", 'under', 'most', 'out', 'had', 'a', 'will', 'who', 'once', 'that', 'yours', 'haven', \"you'd\", 'more', 'wouldn', 'having', 'where', \"you're\", 'am', 'weren', 'these', 'than', \"didn't\", 'with', 'other', 'down', 'shan', 'aren', 'they', 'both', 'until', 'if', 'below', \"wouldn't\", 'an', 'all', 'needn', 'nor', \"aren't\", 'don', 'is', 'she', 'further', \"don't\", 'y', \"it's\", 'isn', 'o', \"hadn't\", 'm', 'i', 'doing', 'but', 'ain', 'me', \"haven't\", 'doesn', \"shan't\", 'up', 'of', 'before', 't', 'those', 'how', 'between', 'been', 'as', 'ourselves', 'through', \"hasn't\", 'there', 'did', 'on', \"weren't\", 'mightn', 'only', 'above', 'when', 'were', \"mightn't\", 'myself'} \n",
      "\n",
      "interchanging thrusts blows came fought part part till prince came parted either part\n",
      "-----\n",
      "lady montague\n",
      "-----\n",
      "romeo saw today\n",
      "-----\n",
      "right glad fray\n",
      "-----\n",
      "benvolio\n",
      "-----\n",
      "madam hour worshipp’d sun peer’d forth golden window east troubled mind drave walk abroad underneath grove sycamore westward rooteth city side early walking see son\n",
      "-----\n",
      "towards made ware stole covert wood\n",
      "-----\n",
      "measuring affections sought might found one many weary self pursu’d humour pursuing gladly shunn’d gladly fled\n",
      "-----\n",
      "montague\n",
      "-----\n",
      "many morning hath seen tears augmenting fresh morning’s dew adding clouds clouds deep sighs soon allcheering sun farthest east begin draw shady curtains aurora’s bed away light steals home heavy son private chamber pens shuts windows locks fair daylight makes artificial night\n",
      "-----\n"
     ]
    },
    {
     "name": "stderr",
     "output_type": "stream",
     "text": [
      "[nltk_data] Downloading package stopwords to\n",
      "[nltk_data]     C:\\Users\\Admin\\AppData\\Roaming\\nltk_data...\n",
      "[nltk_data]   Package stopwords is already up-to-date!\n"
     ]
    }
   ],
   "source": [
    "# Loại bỏ stop words\n",
    "nltk.download('stopwords')\n",
    "from nltk.corpus import stopwords\n",
    "\n",
    "stop_word_list = set(stopwords.words('english'))\n",
    "print(stop_word_list, \"\\n\")\n",
    "for i in range(len(sentence_list)):\n",
    "  sentence_list[i] = \" \".join([word for word in sentence_list[i].split() if word not in stop_word_list])\n",
    "\n",
    "for i in range(220, 230):\n",
    "  print(sentence_list[i])\n",
    "  print(\"-----\")"
   ]
  },
  {
   "cell_type": "code",
   "execution_count": null,
   "metadata": {},
   "outputs": [],
   "source": [
    "#Stemming\n",
    "from nltk.stem.porter import PorterStemmer\n",
    "\n",
    "stemmer = PorterStemmer()\n",
    "stemmed_sentence_list = []\n",
    "for i in range(len(sentence_list)):\n",
    "  stemmed_sentence_list.append(\" \".join([stemmer.stem(word) for word in sentence_list[i].split()]))\n",
    "\n",
    "for i in range(220, 230):\n",
    "  print(stemmed_sentence_list[i])\n",
    "  print(\"-----\")\n"
   ]
  },
  {
   "cell_type": "code",
   "execution_count": null,
   "metadata": {},
   "outputs": [],
   "source": [
    "from nltk.stem import WordNetLemmatizer\n",
    "\n",
    "lemmatizer = WordNetLemmatizer()\n",
    "lemmatized_sentence_list = []\n",
    "for i in range(len(sentence_list)):\n",
    "  lemmatized_sentence_list.append(\" \".join([lemmatizer.lemmatize(word) for word in sentence_list[i].split()]))\n",
    "\n",
    "for i in range(220, 230):\n",
    "  print(lemmatized_sentence_list[i])\n",
    "  print(\"-----\")\n"
   ]
  },
  {
   "cell_type": "code",
   "execution_count": null,
   "metadata": {},
   "outputs": [],
   "source": [
    "pos_tags = nltk.pos_tag(lemmatized_sentence_list[0].split())\n",
    "print(\"POS tags:\", pos_tags)"
   ]
  }
 ],
 "metadata": {
  "kernelspec": {
   "display_name": "Python 3",
   "language": "python",
   "name": "python3"
  },
  "language_info": {
   "codemirror_mode": {
    "name": "ipython",
    "version": 3
   },
   "file_extension": ".py",
   "mimetype": "text/x-python",
   "name": "python",
   "nbconvert_exporter": "python",
   "pygments_lexer": "ipython3",
   "version": "3.12.5"
  }
 },
 "nbformat": 4,
 "nbformat_minor": 2
}
