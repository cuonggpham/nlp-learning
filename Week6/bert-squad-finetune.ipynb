{
 "cells": [
  {
   "cell_type": "markdown",
   "metadata": {},
   "source": [
    "# *Bước 1:* Tải xuống bộ dữ liệu SQuAD 2.0 và thư viện Transformers"
   ]
  },
  {
   "cell_type": "code",
   "execution_count": 4,
   "metadata": {
    "execution": {
     "iopub.execute_input": "2023-11-05T03:47:24.415965Z",
     "iopub.status.busy": "2023-11-05T03:47:24.415267Z",
     "iopub.status.idle": "2023-11-05T03:47:37.778021Z",
     "shell.execute_reply": "2023-11-05T03:47:37.776710Z",
     "shell.execute_reply.started": "2023-11-05T03:47:24.415932Z"
    }
   },
   "outputs": [],
   "source": [
    "%%capture\n",
    "!pip install transformers"
   ]
  },
  {
   "cell_type": "code",
   "execution_count": null,
   "metadata": {
    "execution": {
     "iopub.execute_input": "2023-11-05T03:47:37.780873Z",
     "iopub.status.busy": "2023-11-05T03:47:37.780573Z",
     "iopub.status.idle": "2023-11-05T03:47:52.266849Z",
     "shell.execute_reply": "2023-11-05T03:47:52.265796Z",
     "shell.execute_reply.started": "2023-11-05T03:47:37.780845Z"
    }
   },
   "outputs": [],
   "source": [
    "%%capture\n",
    "import json\n",
    "import pandas as pd\n",
    "import numpy as np\n",
    "from pathlib import Path\n",
    "import torch\n",
    "from torch.utils.data import DataLoader, TensorDataset\n",
    "from transformers import BertTokenizer, BertForQuestionAnswering\n",
    "import time\n",
    "# Nhập các thư viện cần thiết"
   ]
  },
  {
   "cell_type": "code",
   "execution_count": null,
   "metadata": {
    "execution": {
     "iopub.execute_input": "2023-11-05T03:47:52.268232Z",
     "iopub.status.busy": "2023-11-05T03:47:52.267940Z",
     "iopub.status.idle": "2023-11-05T03:47:52.336864Z",
     "shell.execute_reply": "2023-11-05T03:47:52.335775Z",
     "shell.execute_reply.started": "2023-11-05T03:47:52.268206Z"
    }
   },
   "outputs": [
    {
     "name": "stdout",
     "output_type": "stream",
     "text": [
      "GPU is available\n"
     ]
    }
   ],
   "source": [
    "# Kiểm tra xem có GPU không\n",
    "is_cuda = torch.cuda.is_available()\n",
    "\n",
    "# Nếu có GPU, đặt thiết bị là GPU.\n",
    "if is_cuda:\n",
    "    device = torch.device(\"cuda\")\n",
    "    print(\"GPU is available\")\n",
    "else:\n",
    "    device = torch.device(\"cpu\")\n",
    "    print(\"GPU not available, CPU used\")"
   ]
  },
  {
   "cell_type": "markdown",
   "metadata": {},
   "source": [
    "*Stanford Question Answering Dataset* (SQuAD) bao gồm các câu hỏi (100.000) trên một tập các bài viết Wikipedia, trong đó câu trả lời cho mỗi câu hỏi là một đoạn văn bản từ đoạn đọc tương ứng. Ở phiên bản thứ hai của SQuAD, các câu hỏi không có đáp án (50.000) được thêm vào để giống với các câu hỏi có đáp án.\n",
    "\n",
    "Mục đích của các hệ thống sử dụng bộ dữ liệu SQuAD2.0 là không chỉ trả lời các câu hỏi khi có thể, mà còn xác định khi nào không có đáp án phù hợp trong đoạn văn và từ chối trả lời."
   ]
  },
  {
   "cell_type": "code",
   "execution_count": 7,
   "metadata": {
    "execution": {
     "iopub.execute_input": "2023-11-05T03:47:52.340200Z",
     "iopub.status.busy": "2023-11-05T03:47:52.339397Z",
     "iopub.status.idle": "2023-11-05T03:47:55.830068Z",
     "shell.execute_reply": "2023-11-05T03:47:55.828671Z",
     "shell.execute_reply.started": "2023-11-05T03:47:52.340170Z"
    }
   },
   "outputs": [],
   "source": [
    "%%capture\n",
    "!mkdir squad\n",
    "!wget https://rajpurkar.github.io/SQuAD-explorer/dataset/train-v2.0.json -O squad/train-v2.0.json\n",
    "!wget https://rajpurkar.github.io/SQuAD-explorer/dataset/dev-v2.0.json -O squad/dev-v2.0.json"
   ]
  },
  {
   "cell_type": "markdown",
   "metadata": {},
   "source": [
    "# *Bước 2:* Lấy và lưu trữ dữ liệu"
   ]
  },
  {
   "cell_type": "markdown",
   "metadata": {},
   "source": [
    "Ở đây tôi lấy và lưu trữ các đoạn văn, câu hỏi và đáp án từ các file .json train và validation. Nếu quan sát kỹ, ta sẽ thấy trong các file này có nhiều câu hỏi và đáp án cho mỗi đoạn văn. Tôi lưu các thông tin này vào các danh sách."
   ]
  },
  {
   "cell_type": "code",
   "execution_count": null,
   "metadata": {
    "execution": {
     "iopub.execute_input": "2023-11-05T03:47:55.832136Z",
     "iopub.status.busy": "2023-11-05T03:47:55.831817Z",
     "iopub.status.idle": "2023-11-05T03:47:56.843311Z",
     "shell.execute_reply": "2023-11-05T03:47:56.842429Z",
     "shell.execute_reply.started": "2023-11-05T03:47:55.832105Z"
    }
   },
   "outputs": [],
   "source": [
    "# Định nghĩa đường dẫn đến dữ liệu huấn luyện SQuAD 2.0\n",
    "path = \"squad/train-v2.0.json\"\n",
    "\n",
    "# Tải và tiền xử lý dữ liệu SQuAD 2.0\n",
    "def load_squad_data(path):\n",
    "    with open(path, 'rb') as f:\n",
    "        squad_dict = json.load(f)\n",
    "\n",
    "    texts = []\n",
    "    questions = []\n",
    "    answers = []\n",
    "\n",
    "    for group in squad_dict['data']:\n",
    "        for passage in group['paragraphs']:\n",
    "            context = passage['context']\n",
    "            for qa in passage['qas']:\n",
    "                question = qa['question']\n",
    "                for answer in qa['answers']:\n",
    "                    texts.append(context)\n",
    "                    questions.append(question)\n",
    "                    answers.append(answer)\n",
    "\n",
    "    return texts, questions, answers\n",
    "\n",
    "# Tiền xử lý dữ liệu để tìm vị trí bắt đầu và kết thúc của đáp án\n",
    "train_texts, train_queries, train_answers = load_squad_data(path)"
   ]
  },
  {
   "cell_type": "code",
   "execution_count": null,
   "metadata": {
    "execution": {
     "iopub.execute_input": "2023-11-05T03:47:56.845254Z",
     "iopub.status.busy": "2023-11-05T03:47:56.844633Z",
     "iopub.status.idle": "2023-11-05T03:47:57.180616Z",
     "shell.execute_reply": "2023-11-05T03:47:57.179794Z",
     "shell.execute_reply.started": "2023-11-05T03:47:56.845220Z"
    }
   },
   "outputs": [],
   "source": [
    "# Đưa đường dẫn cho dữ liệu validation SQuAD 2.0\n",
    "path = Path('squad/dev-v2.0.json')\n",
    "\n",
    "# Tải và tiền xử lý dữ liệu SQuAD 2.0\n",
    "def load_squad_data(path):\n",
    "    with open(path, 'rb') as f:\n",
    "        squad_dict = json.load(f)\n",
    "\n",
    "    texts = []\n",
    "    questions = []\n",
    "    answers = []\n",
    "\n",
    "    for group in squad_dict['data']:\n",
    "        for passage in group['paragraphs']:\n",
    "            context = passage['context']\n",
    "            for qa in passage['qas']:\n",
    "                question = qa['question']\n",
    "                for answer in qa['answers']:\n",
    "                    texts.append(context)\n",
    "                    questions.append(question)\n",
    "                    answers.append(answer)\n",
    "\n",
    "    return texts, questions, answers\n",
    "\n",
    "# Tiền xử lý dữ liệu để tìm vị trí bắt đầu và kết thúc của đáp án\n",
    "val_texts, val_queries, val_answers = load_squad_data(path)"
   ]
  },
  {
   "cell_type": "markdown",
   "metadata": {},
   "source": [
    "# *Bước 3:* Kiểm tra dữ liệu"
   ]
  },
  {
   "cell_type": "code",
   "execution_count": null,
   "metadata": {
    "execution": {
     "iopub.execute_input": "2023-11-05T03:47:57.182019Z",
     "iopub.status.busy": "2023-11-05T03:47:57.181727Z",
     "iopub.status.idle": "2023-11-05T03:47:57.187655Z",
     "shell.execute_reply": "2023-11-05T03:47:57.186334Z",
     "shell.execute_reply.started": "2023-11-05T03:47:57.181994Z"
    }
   },
   "outputs": [
    {
     "name": "stdout",
     "output_type": "stream",
     "text": [
      "86821\n",
      "86821\n",
      "86821\n"
     ]
    }
   ],
   "source": [
    "# In ra số lượng đoạn văn, câu hỏi, đáp án trong tập train\n",
    "print(len(train_texts))\n",
    "print(len(train_queries))\n",
    "print(len(train_answers))"
   ]
  },
  {
   "cell_type": "code",
   "execution_count": null,
   "metadata": {
    "execution": {
     "iopub.execute_input": "2023-11-05T03:47:57.189131Z",
     "iopub.status.busy": "2023-11-05T03:47:57.188839Z",
     "iopub.status.idle": "2023-11-05T03:47:57.198830Z",
     "shell.execute_reply": "2023-11-05T03:47:57.197939Z",
     "shell.execute_reply.started": "2023-11-05T03:47:57.189107Z"
    }
   },
   "outputs": [
    {
     "name": "stdout",
     "output_type": "stream",
     "text": [
      "Passage:  Beyoncé Giselle Knowles-Carter (/biːˈjɒnseɪ/ bee-YON-say) (born September 4, 1981) is an American singer, songwriter, record producer and actress. Born and raised in Houston, Texas, she performed in various singing and dancing competitions as a child, and rose to fame in the late 1990s as lead singer of R&B girl-group Destiny's Child. Managed by her father, Mathew Knowles, the group became one of the world's best-selling girl groups of all time. Their hiatus saw the release of Beyoncé's debut album, Dangerously in Love (2003), which established her as a solo artist worldwide, earned five Grammy Awards and featured the Billboard Hot 100 number-one singles \"Crazy in Love\" and \"Baby Boy\".\n",
      "Query:  When did Beyonce start becoming popular?\n",
      "Answer:  {'text': 'in the late 1990s', 'answer_start': 269}\n"
     ]
    }
   ],
   "source": [
    "# In ví dụ đầu tiên của tập train\n",
    "print(\"Passage: \",train_texts[0])\n",
    "print(\"Query: \",train_queries[0])\n",
    "print(\"Answer: \",train_answers[0])"
   ]
  },
  {
   "cell_type": "code",
   "execution_count": null,
   "metadata": {
    "execution": {
     "iopub.execute_input": "2023-11-05T03:47:57.200225Z",
     "iopub.status.busy": "2023-11-05T03:47:57.199885Z",
     "iopub.status.idle": "2023-11-05T03:47:57.208671Z",
     "shell.execute_reply": "2023-11-05T03:47:57.207694Z",
     "shell.execute_reply.started": "2023-11-05T03:47:57.200192Z"
    }
   },
   "outputs": [
    {
     "name": "stdout",
     "output_type": "stream",
     "text": [
      "20302\n",
      "20302\n",
      "20302\n"
     ]
    }
   ],
   "source": [
    "# In ra số lượng đoạn văn, câu hỏi, đáp án trong tập validation\n",
    "print(len(val_texts))\n",
    "print(len(val_queries))\n",
    "print(len(val_answers))"
   ]
  },
  {
   "cell_type": "code",
   "execution_count": null,
   "metadata": {
    "execution": {
     "iopub.execute_input": "2023-11-05T03:47:57.212461Z",
     "iopub.status.busy": "2023-11-05T03:47:57.212182Z",
     "iopub.status.idle": "2023-11-05T03:47:57.219178Z",
     "shell.execute_reply": "2023-11-05T03:47:57.218136Z",
     "shell.execute_reply.started": "2023-11-05T03:47:57.212438Z"
    }
   },
   "outputs": [
    {
     "name": "stdout",
     "output_type": "stream",
     "text": [
      "Passage:  The Normans (Norman: Nourmands; French: Normands; Latin: Normanni) were the people who in the 10th and 11th centuries gave their name to Normandy, a region in France. They were descended from Norse (\"Norman\" comes from \"Norseman\") raiders and pirates from Denmark, Iceland and Norway who, under their leader Rollo, agreed to swear fealty to King Charles III of West Francia. Through generations of assimilation and mixing with the native Frankish and Roman-Gaulish populations, their descendants would gradually merge with the Carolingian-based cultures of West Francia. The distinct cultural and ethnic identity of the Normans emerged initially in the first half of the 10th century, and it continued to evolve over the succeeding centuries.\n",
      "Query:  In what country is Normandy located?\n",
      "Answer:  {'text': 'France', 'answer_start': 159}\n"
     ]
    }
   ],
   "source": [
    "# In ví dụ đầu tiên của tập validation\n",
    "print(\"Passage: \",val_texts[0])\n",
    "print(\"Query: \",val_queries[0])\n",
    "print(\"Answer: \",val_answers[0])"
   ]
  },
  {
   "cell_type": "markdown",
   "metadata": {},
   "source": [
    "# *Bước 4:* Tìm vị trí bắt đầu và kết thúc của đáp án trong đoạn văn"
   ]
  },
  {
   "cell_type": "code",
   "execution_count": null,
   "metadata": {
    "execution": {
     "iopub.execute_input": "2023-11-05T03:47:57.220818Z",
     "iopub.status.busy": "2023-11-05T03:47:57.220439Z",
     "iopub.status.idle": "2023-11-05T03:47:57.318826Z",
     "shell.execute_reply": "2023-11-05T03:47:57.317906Z",
     "shell.execute_reply.started": "2023-11-05T03:47:57.220787Z"
    }
   },
   "outputs": [],
   "source": [
    "for answer, text in zip(train_answers, train_texts):\n",
    "    real_answer = answer['text']\n",
    "    start_idx = answer['answer_start']\n",
    "    # Lấy chỉ số kết thúc thực tế\n",
    "    end_idx = start_idx + len(real_answer)\n",
    "\n",
    "    # Xử lý trường hợp lệch 1 hoặc 2 ký tự\n",
    "    if text[start_idx:end_idx] == real_answer:\n",
    "        answer['answer_end'] = end_idx\n",
    "    # Khi đáp án thực tế lệch 1 ký tự\n",
    "    elif text[start_idx-1:end_idx-1] == real_answer:\n",
    "        answer['answer_start'] = start_idx - 1\n",
    "        answer['answer_end'] = end_idx - 1\n",
    "    # Khi đáp án thực tế lệch 2 ký tự\n",
    "    elif text[start_idx-2:end_idx-2] == real_answer:\n",
    "        answer['answer_start'] = start_idx - 2\n",
    "        answer['answer_end'] = end_idx - 2"
   ]
  },
  {
   "cell_type": "code",
   "execution_count": null,
   "metadata": {
    "execution": {
     "iopub.execute_input": "2023-11-05T03:47:57.320285Z",
     "iopub.status.busy": "2023-11-05T03:47:57.319937Z",
     "iopub.status.idle": "2023-11-05T03:47:57.349498Z",
     "shell.execute_reply": "2023-11-05T03:47:57.348505Z",
     "shell.execute_reply.started": "2023-11-05T03:47:57.320259Z"
    }
   },
   "outputs": [],
   "source": [
    "for answer, text in zip(val_answers, val_texts):\n",
    "    real_answer = answer['text']\n",
    "    start_idx = answer['answer_start']\n",
    "    # Lấy chỉ số kết thúc thực tế\n",
    "    end_idx = start_idx + len(real_answer)\n",
    "\n",
    "    # Xử lý trường hợp lệch 1 hoặc 2 ký tự\n",
    "    if text[start_idx:end_idx] == real_answer:\n",
    "        answer['answer_end'] = end_idx\n",
    "    # Khi đáp án thực tế lệch 1 ký tự\n",
    "    elif text[start_idx-1:end_idx-1] == real_answer:\n",
    "        answer['answer_start'] = start_idx - 1\n",
    "        answer['answer_end'] = end_idx - 1\n",
    "    # Khi đáp án thực tế lệch 2 ký tự\n",
    "    elif text[start_idx-2:end_idx-2] == real_answer:\n",
    "        answer['answer_start'] = start_idx - 2\n",
    "        answer['answer_end'] = end_idx - 2\n"
   ]
  },
  {
   "cell_type": "markdown",
   "metadata": {},
   "source": [
    "# *Bước 5:* Tokenize các đoạn văn và câu hỏi"
   ]
  },
  {
   "cell_type": "code",
   "execution_count": null,
   "metadata": {
    "execution": {
     "iopub.execute_input": "2023-11-05T03:47:57.351010Z",
     "iopub.status.busy": "2023-11-05T03:47:57.350725Z",
     "iopub.status.idle": "2023-11-05T03:47:58.169310Z",
     "shell.execute_reply": "2023-11-05T03:47:58.168315Z",
     "shell.execute_reply.started": "2023-11-05T03:47:57.350985Z"
    }
   },
   "outputs": [
    {
     "data": {
      "application/vnd.jupyter.widget-view+json": {
       "model_id": "e748149fb6d842009fcb9ebdb4c6f979",
       "version_major": 2,
       "version_minor": 0
      },
      "text/plain": [
       "Downloading (…)okenizer_config.json:   0%|          | 0.00/28.0 [00:00<?, ?B/s]"
      ]
     },
     "metadata": {},
     "output_type": "display_data"
    },
    {
     "data": {
      "application/vnd.jupyter.widget-view+json": {
       "model_id": "f258afbe230e4bae92b7c7cbc4be64c9",
       "version_major": 2,
       "version_minor": 0
      },
      "text/plain": [
       "Downloading (…)lve/main/config.json:   0%|          | 0.00/570 [00:00<?, ?B/s]"
      ]
     },
     "metadata": {},
     "output_type": "display_data"
    },
    {
     "data": {
      "application/vnd.jupyter.widget-view+json": {
       "model_id": "99a490c0b760412393259062807846f5",
       "version_major": 2,
       "version_minor": 0
      },
      "text/plain": [
       "Downloading (…)solve/main/vocab.txt:   0%|          | 0.00/232k [00:00<?, ?B/s]"
      ]
     },
     "metadata": {},
     "output_type": "display_data"
    },
    {
     "data": {
      "application/vnd.jupyter.widget-view+json": {
       "model_id": "ad6c519829ca4b05a33a165a0f72fce1",
       "version_major": 2,
       "version_minor": 0
      },
      "text/plain": [
       "Downloading (…)/main/tokenizer.json:   0%|          | 0.00/466k [00:00<?, ?B/s]"
      ]
     },
     "metadata": {},
     "output_type": "display_data"
    }
   ],
   "source": [
    "from transformers import AutoTokenizer\n",
    "# Khởi tạo tokenizer\n",
    "tokenizer = AutoTokenizer.from_pretrained(\"bert-base-uncased\")"
   ]
  },
  {
   "cell_type": "code",
   "execution_count": 17,
   "metadata": {
    "execution": {
     "iopub.execute_input": "2023-11-05T03:47:58.170781Z",
     "iopub.status.busy": "2023-11-05T03:47:58.170489Z",
     "iopub.status.idle": "2023-11-05T03:48:35.696574Z",
     "shell.execute_reply": "2023-11-05T03:48:35.695590Z",
     "shell.execute_reply.started": "2023-11-05T03:47:58.170757Z"
    }
   },
   "outputs": [],
   "source": [
    "train_encodings = tokenizer(train_texts, train_queries, truncation=True, padding=True)\n",
    "val_encodings = tokenizer(val_texts, val_queries, truncation=True, padding=True)"
   ]
  },
  {
   "cell_type": "markdown",
   "metadata": {},
   "source": [
    "# *Bước 6:* Chuyển vị trí bắt đầu-kết thúc sang vị trí token"
   ]
  },
  {
   "cell_type": "code",
   "execution_count": null,
   "metadata": {
    "execution": {
     "iopub.execute_input": "2023-11-05T03:48:35.698562Z",
     "iopub.status.busy": "2023-11-05T03:48:35.697979Z",
     "iopub.status.idle": "2023-11-05T03:48:36.163632Z",
     "shell.execute_reply": "2023-11-05T03:48:36.162674Z",
     "shell.execute_reply.started": "2023-11-05T03:48:35.698504Z"
    }
   },
   "outputs": [
    {
     "name": "stdout",
     "output_type": "stream",
     "text": [
      "10\n",
      "16\n"
     ]
    }
   ],
   "source": [
    "def add_token_positions(encodings, answers):\n",
    "    start_positions = []\n",
    "    end_positions = []\n",
    "    \n",
    "    count = 0\n",
    "    \n",
    "    for i in range(len(answers)):\n",
    "        # Lấy vị trí bắt đầu token\n",
    "        start_positions.append(encodings.char_to_token(i, answers[i]['answer_start']))\n",
    "        # Lấy vị trí kết thúc token\n",
    "        end_positions.append(encodings.char_to_token(i, answers[i]['answer_end']))\n",
    "        \n",
    "        # nếu vị trí bắt đầu là None, đoạn đáp án đã bị cắt bớt\n",
    "        if start_positions[-1] is None:\n",
    "            start_positions[-1] = tokenizer.model_max_length\n",
    "            \n",
    "        # nếu vị trí kết thúc là None, hàm 'char_to_token' trỏ đến ký tự sau token đúng, nên trừ đi 1\n",
    "        if end_positions[-1] is None:\n",
    "            end_positions[-1] = encodings.char_to_token(i, answers[i]['answer_end'] - 1)\n",
    "            \n",
    "            # nếu vẫn None thì đáp án đã bị cắt bớt\n",
    "            if end_positions[-1] is None:\n",
    "                count += 1\n",
    "                end_positions[-1] = tokenizer.model_max_length\n",
    "    print(count)\n",
    "    \n",
    "    # Cập nhật dữ liệu vào dictionary\n",
    "    encodings.update({'start_positions': start_positions, 'end_positions': end_positions})\n",
    "\n",
    "add_token_positions(train_encodings, train_answers)\n",
    "add_token_positions(val_encodings, val_answers)"
   ]
  },
  {
   "cell_type": "markdown",
   "metadata": {},
   "source": [
    "Tôi nhận thấy sau khi tokenize, vị trí kết thúc đôi khi vẫn là None. Điều này chỉ xảy ra với 10 đáp án trong tập train (trên tổng số 86821) và 16 đáp án trong tập validation (trên tổng số 20302). Vì vậy tôi quyết định dịch đáp án sang trái 1 vị trí. Nếu vẫn là None thì tôi gán bằng model_max_length như trước. Tôi cũng đã thử kiểm tra nếu đáp án lệch phải 1 vị trí (cộng 1 vào vị trí kết thúc) hoặc lệch trái/phải 2 vị trí (+/- 2), nhưng số đáp án vẫn là None lại nhiều hơn (526), trong khi với cách này chỉ còn 10. Do đó tôi giữ chiến lược này để giảm số đáp án bị \"bỏ qua\"."
   ]
  },
  {
   "cell_type": "markdown",
   "metadata": {},
   "source": [
    "# *Bước 7:* Tạo lớp Dataset"
   ]
  },
  {
   "cell_type": "code",
   "execution_count": null,
   "metadata": {
    "execution": {
     "iopub.execute_input": "2023-11-05T03:48:36.165352Z",
     "iopub.status.busy": "2023-11-05T03:48:36.165064Z",
     "iopub.status.idle": "2023-11-05T03:48:36.171402Z",
     "shell.execute_reply": "2023-11-05T03:48:36.170481Z",
     "shell.execute_reply.started": "2023-11-05T03:48:36.165327Z"
    }
   },
   "outputs": [],
   "source": [
    "class SquadDataset(torch.utils.data.Dataset):\n",
    "    def __init__(self, encodings):\n",
    "        self.encodings = encodings\n",
    "\n",
    "    def __getitem__(self, idx):\n",
    "        # Lấy một phần tử theo chỉ số\n",
    "        return {key: torch.tensor(val[idx]) for key, val in self.encodings.items()}\n",
    "\n",
    "    def __len__(self):\n",
    "        # Trả về số lượng phần tử\n",
    "        return len(self.encodings.input_ids)"
   ]
  },
  {
   "cell_type": "code",
   "execution_count": null,
   "metadata": {
    "execution": {
     "iopub.execute_input": "2023-11-05T03:48:36.172919Z",
     "iopub.status.busy": "2023-11-05T03:48:36.172604Z",
     "iopub.status.idle": "2023-11-05T03:48:36.180892Z",
     "shell.execute_reply": "2023-11-05T03:48:36.180061Z",
     "shell.execute_reply.started": "2023-11-05T03:48:36.172873Z"
    }
   },
   "outputs": [],
   "source": [
    "# Tạo dataset cho train và validation\n",
    "train_dataset = SquadDataset(train_encodings)\n",
    "val_dataset = SquadDataset(val_encodings)"
   ]
  },
  {
   "cell_type": "markdown",
   "metadata": {},
   "source": [
    "# *Bước 8:* Sử dụng DataLoader"
   ]
  },
  {
   "cell_type": "code",
   "execution_count": null,
   "metadata": {
    "execution": {
     "iopub.execute_input": "2023-11-05T03:48:36.182346Z",
     "iopub.status.busy": "2023-11-05T03:48:36.182075Z",
     "iopub.status.idle": "2023-11-05T03:48:36.191353Z",
     "shell.execute_reply": "2023-11-05T03:48:36.190543Z",
     "shell.execute_reply.started": "2023-11-05T03:48:36.182315Z"
    }
   },
   "outputs": [],
   "source": [
    "# Khởi tạo DataLoader cho train và validation\n",
    "train_loader = DataLoader(train_dataset, batch_size=8, shuffle=True)\n",
    "val_loader = DataLoader(val_dataset, batch_size=8, shuffle=True)"
   ]
  },
  {
   "cell_type": "markdown",
   "metadata": {},
   "source": [
    "# *Bước 9:* Sử dụng GPU"
   ]
  },
  {
   "cell_type": "code",
   "execution_count": null,
   "metadata": {
    "execution": {
     "iopub.execute_input": "2023-11-05T03:48:36.192798Z",
     "iopub.status.busy": "2023-11-05T03:48:36.192463Z",
     "iopub.status.idle": "2023-11-05T03:48:36.200724Z",
     "shell.execute_reply": "2023-11-05T03:48:36.199850Z",
     "shell.execute_reply.started": "2023-11-05T03:48:36.192769Z"
    }
   },
   "outputs": [],
   "source": [
    "# Đặt thiết bị là GPU nếu có, ngược lại dùng CPU\n",
    "device = torch.device('cuda:0' if torch.cuda.is_available()\n",
    "                      else 'cpu')"
   ]
  },
  {
   "cell_type": "markdown",
   "metadata": {},
   "source": [
    "# *Bước 10:* Xây dựng mô hình Bert"
   ]
  },
  {
   "cell_type": "markdown",
   "metadata": {},
   "source": [
    "Tôi chọn BertForQuestionAnswering từ thư viện transformers vì nó phù hợp nhất với bài toán này. Khi khởi tạo mô hình với from_pretrained(), cấu hình và trọng số đã huấn luyện trước của mô hình sẽ được sử dụng để khởi tạo. Ngoài ra, tôi sử dụng optimizer AdamW của PyTorch, có khả năng hiệu chỉnh gradient và giảm trọng số."
   ]
  },
  {
   "cell_type": "code",
   "execution_count": null,
   "metadata": {
    "execution": {
     "iopub.execute_input": "2023-11-05T03:48:36.201927Z",
     "iopub.status.busy": "2023-11-05T03:48:36.201668Z",
     "iopub.status.idle": "2023-11-05T03:48:45.749171Z",
     "shell.execute_reply": "2023-11-05T03:48:45.747971Z",
     "shell.execute_reply.started": "2023-11-05T03:48:36.201905Z"
    }
   },
   "outputs": [
    {
     "data": {
      "application/vnd.jupyter.widget-view+json": {
       "model_id": "6a6bd80600954e1fbfd5f6e8384cfead",
       "version_major": 2,
       "version_minor": 0
      },
      "text/plain": [
       "Downloading model.safetensors:   0%|          | 0.00/440M [00:00<?, ?B/s]"
      ]
     },
     "metadata": {},
     "output_type": "display_data"
    }
   ],
   "source": [
    "# Khởi tạo mô hình Bert cho bài toán trả lời câu hỏi\n",
    "model = BertForQuestionAnswering.from_pretrained('bert-base-uncased').to(device)"
   ]
  },
  {
   "cell_type": "code",
   "execution_count": null,
   "metadata": {
    "execution": {
     "iopub.execute_input": "2023-11-05T03:48:45.750904Z",
     "iopub.status.busy": "2023-11-05T03:48:45.750605Z",
     "iopub.status.idle": "2023-11-05T03:48:45.762817Z",
     "shell.execute_reply": "2023-11-05T03:48:45.761708Z",
     "shell.execute_reply.started": "2023-11-05T03:48:45.750876Z"
    }
   },
   "outputs": [
    {
     "name": "stderr",
     "output_type": "stream",
     "text": [
      "/opt/conda/lib/python3.10/site-packages/transformers/optimization.py:411: FutureWarning: This implementation of AdamW is deprecated and will be removed in a future version. Use the PyTorch implementation torch.optim.AdamW instead, or set `no_deprecation_warning=True` to disable this warning\n",
      "  warnings.warn(\n"
     ]
    }
   ],
   "source": [
    "from transformers import AdamW\n",
    "# Khởi tạo optimizer AdamW\n",
    "optim = AdamW(model.parameters(), lr=5e-5)\n",
    "\n",
    "epochs = 3"
   ]
  },
  {
   "cell_type": "markdown",
   "metadata": {},
   "source": [
    "# *Bước 11:* Huấn luyện và đánh giá mô hình"
   ]
  },
  {
   "cell_type": "code",
   "execution_count": null,
   "metadata": {
    "execution": {
     "iopub.execute_input": "2023-11-05T03:48:45.766807Z",
     "iopub.status.busy": "2023-11-05T03:48:45.766278Z",
     "iopub.status.idle": "2023-11-05T11:44:12.019915Z",
     "shell.execute_reply": "2023-11-05T11:44:12.018800Z",
     "shell.execute_reply.started": "2023-11-05T03:48:45.766780Z"
    }
   },
   "outputs": [
    {
     "name": "stdout",
     "output_type": "stream",
     "text": [
      "############Train############\n",
      "Batch 1000 / 10853 \n",
      "Loss: 1.7 \n",
      "\n",
      "Batch 2000 / 10853 \n",
      "Loss: 1.6 \n",
      "\n",
      "Batch 3000 / 10853 \n",
      "Loss: 0.9 \n",
      "\n",
      "Batch 4000 / 10853 \n",
      "Loss: 1.5 \n",
      "\n",
      "Batch 5000 / 10853 \n",
      "Loss: 1.2 \n",
      "\n",
      "Batch 6000 / 10853 \n",
      "Loss: 0.9 \n",
      "\n",
      "Batch 7000 / 10853 \n",
      "Loss: 0.9 \n",
      "\n",
      "Batch 8000 / 10853 \n",
      "Loss: 1.0 \n",
      "\n",
      "Batch 9000 / 10853 \n",
      "Loss: 2.1 \n",
      "\n",
      "Batch 10000 / 10853 \n",
      "Loss: 0.3 \n",
      "\n",
      "############Evaluate############\n",
      "Batch 1000 / 2538 \n",
      "Loss: 2.0 \n",
      "\n",
      "Batch 2000 / 2538 \n",
      "Loss: 0.6 \n",
      "\n",
      "\n",
      "-------Epoch  1 -------\n",
      "Training Loss: 1.3305625837142814 \n",
      "Validation Loss: 1.1514507515562906 \n",
      "Time:  9507.142520189285 \n",
      "----------------------- \n",
      "\n",
      "\n",
      "############Train############\n",
      "Batch 1000 / 10853 \n",
      "Loss: 1.1 \n",
      "\n",
      "Batch 2000 / 10853 \n",
      "Loss: 0.8 \n",
      "\n",
      "Batch 3000 / 10853 \n",
      "Loss: 1.5 \n",
      "\n",
      "Batch 4000 / 10853 \n",
      "Loss: 1.2 \n",
      "\n",
      "Batch 5000 / 10853 \n",
      "Loss: 1.5 \n",
      "\n",
      "Batch 6000 / 10853 \n",
      "Loss: 0.3 \n",
      "\n",
      "Batch 7000 / 10853 \n",
      "Loss: 0.5 \n",
      "\n",
      "Batch 8000 / 10853 \n",
      "Loss: 1.6 \n",
      "\n",
      "Batch 9000 / 10853 \n",
      "Loss: 0.5 \n",
      "\n",
      "Batch 10000 / 10853 \n",
      "Loss: 0.5 \n",
      "\n",
      "############Evaluate############\n",
      "Batch 1000 / 2538 \n",
      "Loss: 0.6 \n",
      "\n",
      "Batch 2000 / 2538 \n",
      "Loss: 0.6 \n",
      "\n",
      "\n",
      "-------Epoch  2 -------\n",
      "Training Loss: 0.8772518780629261 \n",
      "Validation Loss: 1.1670450934915677 \n",
      "Time:  9511.289120197296 \n",
      "----------------------- \n",
      "\n",
      "\n",
      "############Train############\n",
      "Batch 1000 / 10853 \n",
      "Loss: 0.4 \n",
      "\n",
      "Batch 2000 / 10853 \n",
      "Loss: 0.9 \n",
      "\n",
      "Batch 3000 / 10853 \n",
      "Loss: 0.7 \n",
      "\n",
      "Batch 4000 / 10853 \n",
      "Loss: 1.2 \n",
      "\n",
      "Batch 5000 / 10853 \n",
      "Loss: 0.9 \n",
      "\n",
      "Batch 6000 / 10853 \n",
      "Loss: 0.4 \n",
      "\n",
      "Batch 7000 / 10853 \n",
      "Loss: 0.1 \n",
      "\n",
      "Batch 8000 / 10853 \n",
      "Loss: 1.2 \n",
      "\n",
      "Batch 9000 / 10853 \n",
      "Loss: 0.8 \n",
      "\n",
      "Batch 10000 / 10853 \n",
      "Loss: 0.3 \n",
      "\n",
      "############Evaluate############\n",
      "Batch 1000 / 2538 \n",
      "Loss: 1.0 \n",
      "\n",
      "Batch 2000 / 2538 \n",
      "Loss: 0.7 \n",
      "\n",
      "\n",
      "-------Epoch  3 -------\n",
      "Training Loss: 0.6817932915080489 \n",
      "Validation Loss: 1.2011212446030386 \n",
      "Time:  9507.805643320084 \n",
      "----------------------- \n",
      "\n",
      "\n",
      "Total training and evaluation time:  28526.238472938538\n"
     ]
    }
   ],
   "source": [
    "# Đo thời gian huấn luyện và đánh giá tổng thể\n",
    "whole_train_eval_time = time.time()\n",
    "\n",
    "train_losses = []\n",
    "val_losses = []\n",
    "\n",
    "print_every = 1000\n",
    "\n",
    "for epoch in range(epochs):\n",
    "    epoch_time = time.time()\n",
    "    \n",
    "    # Đặt mô hình ở chế độ huấn luyện\n",
    "    model.train()\n",
    "    loss_of_epoch = 0\n",
    "    \n",
    "    print(\"############Train############\")\n",
    "    \n",
    "    for batch_idx,batch in enumerate(train_loader): \n",
    "        optim.zero_grad()\n",
    "        \n",
    "        input_ids = batch['input_ids'].to(device)\n",
    "        attention_mask = batch['attention_mask'].to(device)\n",
    "        start_positions = batch['start_positions'].to(device)\n",
    "        end_positions = batch['end_positions'].to(device)\n",
    "        \n",
    "        outputs = model(input_ids, attention_mask=attention_mask, start_positions=start_positions, end_positions=end_positions)\n",
    "        loss = outputs[0]\n",
    "        # lan truyền ngược\n",
    "        loss.backward()\n",
    "        # cập nhật trọng số\n",
    "        optim.step()\n",
    "        # Tính tổng loss\n",
    "        loss_of_epoch += loss.item()\n",
    "        \n",
    "        if (batch_idx+1) % print_every == 0:\n",
    "            print(\"Batch {:} / {:}\".format(batch_idx+1,len(train_loader)),\"\\nLoss:\", round(loss.item(),1),\"\\n\")\n",
    "        \n",
    "    loss_of_epoch /= len(train_loader)\n",
    "    train_losses.append(loss_of_epoch)\n",
    "    \n",
    "    ##########Đánh giá##################\n",
    "    \n",
    "    # Đặt mô hình ở chế độ đánh giá\n",
    "    model.eval()\n",
    "    \n",
    "    print(\"############Evaluate############\")\n",
    "    \n",
    "    loss_of_epoch = 0\n",
    "    \n",
    "    for batch_idx,batch in enumerate(val_loader):\n",
    "        \n",
    "        with torch.no_grad():\n",
    "            \n",
    "            input_ids = batch['input_ids'].to(device)\n",
    "            attention_mask = batch['attention_mask'].to(device)\n",
    "            start_positions = batch['start_positions'].to(device)\n",
    "            end_positions = batch['end_positions'].to(device)\n",
    "            \n",
    "            outputs = model(input_ids, attention_mask=attention_mask, start_positions=start_positions, end_positions=end_positions)\n",
    "            loss = outputs[0]\n",
    "            # Tính tổng loss\n",
    "            loss_of_epoch += loss.item()\n",
    "            \n",
    "        if (batch_idx+1) % print_every == 0:\n",
    "            print(\"Batch {:} / {:}\".format(batch_idx+1,len(val_loader)),\"\\nLoss:\", round(loss.item(),1),\"\\n\")\n",
    "    \n",
    "    loss_of_epoch /= len(val_loader)\n",
    "    val_losses.append(loss_of_epoch)\n",
    "    \n",
    "    # In thời gian và loss của mỗi epoch\n",
    "    \n",
    "    print(\"\\n-------Epoch \", epoch+1,\n",
    "          \"-------\"\n",
    "          \"\\nTraining Loss:\", train_losses[-1],\n",
    "          \"\\nValidation Loss:\", val_losses[-1],\n",
    "          \"\\nTime: \",(time.time() - epoch_time),\n",
    "          \"\\n-----------------------\",\n",
    "          \"\\n\\n\")\n",
    "\n",
    "print(\"Total training and evaluation time: \", (time.time() - whole_train_eval_time))"
   ]
  },
  {
   "cell_type": "markdown",
   "metadata": {},
   "source": [
    "# *Bước 12:* Vẽ biểu đồ loss train và validation"
   ]
  },
  {
   "cell_type": "code",
   "execution_count": null,
   "metadata": {
    "execution": {
     "iopub.execute_input": "2023-11-05T11:46:24.585950Z",
     "iopub.status.busy": "2023-11-05T11:46:24.585215Z",
     "iopub.status.idle": "2023-11-05T11:46:24.913426Z",
     "shell.execute_reply": "2023-11-05T11:46:24.912588Z",
     "shell.execute_reply.started": "2023-11-05T11:46:24.585913Z"
    }
   },
   "outputs": [
    {
     "data": {
      "image/png": "[encoded data removed]",
      "text/plain": [
       "<Figure size 1000x500 with 1 Axes>"
      ]
     },
     "metadata": {},
     "output_type": "display_data"
    }
   ],
   "source": [
    "import matplotlib.pyplot as plt \n",
    "\n",
    "# Vẽ biểu đồ loss train và validation\n",
    "gig,ax = plt.subplots(1,1,figsize=(10,5))\n",
    "\n",
    "ax.set_title(\"Train and Validation Losses\",size=20)\n",
    "ax.set_ylabel('Loss', fontsize = 20) \n",
    "ax.set_xlabel('Epochs', fontsize = 25) \n",
    "_=ax.plot(train_losses)\n",
    "_=ax.plot(val_losses)\n",
    "_=ax.legend(('Train','Val'),loc='upper right')"
   ]
  },
  {
   "cell_type": "code",
   "execution_count": null,
   "metadata": {
    "execution": {
     "iopub.execute_input": "2023-11-05T11:46:31.180351Z",
     "iopub.status.busy": "2023-11-05T11:46:31.179464Z",
     "iopub.status.idle": "2023-11-05T11:46:31.441180Z",
     "shell.execute_reply": "2023-11-05T11:46:31.440281Z",
     "shell.execute_reply.started": "2023-11-05T11:46:31.180316Z"
    }
   },
   "outputs": [
    {
     "data": {
      "image/png": "[encoded data removed]",
      "text/plain": [
       "<Figure size 1000x500 with 1 Axes>"
      ]
     },
     "metadata": {},
     "output_type": "display_data"
    }
   ],
   "source": [
    "# Vẽ biểu đồ loss huấn luyện\n",
    "gig,ax = plt.subplots(1,1,figsize=(10,5))\n",
    "plt.figure(figsize=(10, 5))\n",
    "plt.plot(range(1, epochs + 1), train_losses, label='Training Loss')\n",
    "plt.xlabel('Epoch')\n",
    "plt.ylabel('Loss')\n",
    "plt.title('Training Loss Over Epochs')\n",
    "plt.legend()\n",
    "plt.grid(True)\n",
    "plt.show()"
   ]
  },
  {
   "cell_type": "code",
   "execution_count": null,
   "metadata": {
    "execution": {
     "iopub.execute_input": "2023-11-05T11:46:34.979463Z",
     "iopub.status.busy": "2023-11-05T11:46:34.978701Z",
     "iopub.status.idle": "2023-11-05T11:46:35.309925Z",
     "shell.execute_reply": "2023-11-05T11:46:35.309008Z",
     "shell.execute_reply.started": "2023-11-05T11:46:34.979429Z"
    }
   },
   "outputs": [
    {
     "data": {
      "image/png": "[encoded data removed]",
      "text/plain": [
       "<Figure size 1000x500 with 1 Axes>"
      ]
     },
     "metadata": {},
     "output_type": "display_data"
    }
   ],
   "source": [
    "# Vẽ biểu đồ loss validation\n",
    "plt.figure(figsize=(10, 5))\n",
    "plt.plot(range(1, epochs + 1), val_losses, label='Validation Loss')\n",
    "plt.xlabel('Epoch')\n",
    "plt.ylabel('Loss')\n",
    "plt.title('Validation Loss Over Epochs')\n",
    "plt.legend()\n",
    "plt.grid(True)\n",
    "\n",
    "# Hiển thị biểu đồ\n",
    "plt.show()"
   ]
  },
  {
   "cell_type": "markdown",
   "metadata": {},
   "source": [
    "**Tóm tắt quá trình huấn luyện mô hình:**\n",
    "Tôi phải nói rằng tôi đã phải chờ nhiều giờ để chạy toàn bộ notebook (có lúc ~9 tiếng) và đó là một quá trình rất mệt mỏi, vì đôi khi sau 8 tiếng thì phiên làm việc trên kaggle bị ngắt kết nối hoặc GPU bị hết. Điều tôi rút ra là việc huấn luyện mô hình rất tốn thời gian và cần máy tính mạnh.\n",
    "\n",
    "Tuy nhiên, tôi đã chạy được với một số siêu tham số mà tôi muốn để đạt hiệu suất tốt nhất. Tôi tham khảo các bài giảng về BERT để chọn giá trị thử nghiệm. Cụ thể:\n",
    "\n",
    "**Batch size:** 8, 16\n",
    "\n",
    "**Learning rate (Adam):** 5e−5, 3e−5, 2e−5\n",
    "\n",
    "**Số epoch:** 2, 3, 4\n",
    "\n",
    "Tôi sẽ phân tích kỹ hơn sau, nhưng cuối cùng tôi giữ các giá trị *batch size 8, 3 epoch* và *learning rate 5e-5* là tối ưu."
   ]
  },
  {
   "cell_type": "markdown",
   "metadata": {},
   "source": [
    "# *Bước 13:* Lưu mô hình đã huấn luyện"
   ]
  },
  {
   "cell_type": "code",
   "execution_count": null,
   "metadata": {
    "execution": {
     "iopub.execute_input": "2023-11-05T12:38:47.981112Z",
     "iopub.status.busy": "2023-11-05T12:38:47.979990Z",
     "iopub.status.idle": "2023-11-05T12:38:50.376618Z",
     "shell.execute_reply": "2023-11-05T12:38:50.375358Z",
     "shell.execute_reply.started": "2023-11-05T12:38:47.981076Z"
    }
   },
   "outputs": [],
   "source": [
    "# Lưu mô hình vào Google Drive\n",
    "torch.save(model, '/kaggle/working/bert_finetunedmodel')"
   ]
  },
  {
   "cell_type": "markdown",
   "metadata": {},
   "source": [
    "# *Bước 14:* Tải mô hình đã huấn luyện"
   ]
  },
  {
   "cell_type": "code",
   "execution_count": null,
   "metadata": {
    "execution": {
     "iopub.execute_input": "2023-11-05T11:48:28.381398Z",
     "iopub.status.busy": "2023-11-05T11:48:28.381037Z",
     "iopub.status.idle": "2023-11-05T11:48:28.650062Z",
     "shell.execute_reply": "2023-11-05T11:48:28.649171Z",
     "shell.execute_reply.started": "2023-11-05T11:48:28.381366Z"
    }
   },
   "outputs": [
    {
     "data": {
      "text/plain": [
       "BertForQuestionAnswering(\n",
       "  (bert): BertModel(\n",
       "    (embeddings): BertEmbeddings(\n",
       "      (word_embeddings): Embedding(30522, 768, padding_idx=0)\n",
       "      (position_embeddings): Embedding(512, 768)\n",
       "      (token_type_embeddings): Embedding(2, 768)\n",
       "      (LayerNorm): LayerNorm((768,), eps=1e-12, elementwise_affine=True)\n",
       "      (dropout): Dropout(p=0.1, inplace=False)\n",
       "    )\n",
       "    (encoder): BertEncoder(\n",
       "      (layer): ModuleList(\n",
       "        (0-11): 12 x BertLayer(\n",
       "          (attention): BertAttention(\n",
       "            (self): BertSelfAttention(\n",
       "              (query): Linear(in_features=768, out_features=768, bias=True)\n",
       "              (key): Linear(in_features=768, out_features=768, bias=True)\n",
       "              (value): Linear(in_features=768, out_features=768, bias=True)\n",
       "              (dropout): Dropout(p=0.1, inplace=False)\n",
       "            )\n",
       "            (output): BertSelfOutput(\n",
       "              (dense): Linear(in_features=768, out_features=768, bias=True)\n",
       "              (LayerNorm): LayerNorm((768,), eps=1e-12, elementwise_affine=True)\n",
       "              (dropout): Dropout(p=0.1, inplace=False)\n",
       "            )\n",
       "          )\n",
       "          (intermediate): BertIntermediate(\n",
       "            (dense): Linear(in_features=768, out_features=3072, bias=True)\n",
       "            (intermediate_act_fn): GELUActivation()\n",
       "          )\n",
       "          (output): BertOutput(\n",
       "            (dense): Linear(in_features=3072, out_features=768, bias=True)\n",
       "            (LayerNorm): LayerNorm((768,), eps=1e-12, elementwise_affine=True)\n",
       "            (dropout): Dropout(p=0.1, inplace=False)\n",
       "          )\n",
       "        )\n",
       "      )\n",
       "    )\n",
       "  )\n",
       "  (qa_outputs): Linear(in_features=768, out_features=2, bias=True)\n",
       ")"
      ]
     },
     "execution_count": 33,
     "metadata": {},
     "output_type": "execute_result"
    }
   ],
   "source": [
    "# Tải mô hình đã lưu\n",
    "bert_model2 = torch.load('/kaggle/working/bert_finetunedmodel',map_location=torch.device('cpu'))\n",
    "bert_model2.eval()"
   ]
  },
  {
   "cell_type": "markdown",
   "metadata": {},
   "source": [
    "# *Bước 15:* Dự đoán và đánh giá kết quả"
   ]
  },
  {
   "cell_type": "code",
   "execution_count": null,
   "metadata": {
    "execution": {
     "iopub.execute_input": "2023-11-05T11:51:04.933941Z",
     "iopub.status.busy": "2023-11-05T11:51:04.933086Z",
     "iopub.status.idle": "2023-11-05T11:51:04.945683Z",
     "shell.execute_reply": "2023-11-05T11:51:04.944771Z",
     "shell.execute_reply.started": "2023-11-05T11:51:04.933907Z"
    }
   },
   "outputs": [],
   "source": [
    "def predict(context,query):\n",
    "    # Hàm dự đoán trả lời câu hỏi\n",
    "    inputs = tokenizer.encode_plus(query, context, return_tensors='pt')\n",
    "    outputs = bert_model2(**inputs)\n",
    "    answer_start = torch.argmax(outputs[0])  # lấy vị trí bắt đầu có xác suất cao nhất\n",
    "    answer_end = torch.argmax(outputs[1]) + 1 \n",
    "    answer = tokenizer.convert_tokens_to_string(tokenizer.convert_ids_to_tokens(inputs['input_ids'][0][answer_start:answer_end]))\n",
    "    return answer\n",
    "\n",
    "def normalize_text(s):\n",
    "    \"\"\"Loại bỏ mạo từ, dấu câu và chuẩn hóa khoảng trắng là các bước xử lý văn bản phổ biến.\"\"\"\n",
    "    import string, re\n",
    "    def remove_articles(text):\n",
    "        regex = re.compile(r\"\\b(a|an|the)\\b\", re.UNICODE)\n",
    "        return re.sub(regex, \" \", text)\n",
    "    \n",
    "    def white_space_fix(text):\n",
    "        return \" \".join(text.split())\n",
    "    \n",
    "    def remove_punc(text):\n",
    "        exclude = set(string.punctuation)\n",
    "        return \"\".join(ch for ch in text if ch not in exclude)\n",
    "    \n",
    "    def lower(text):\n",
    "        return text.lower()\n",
    "    \n",
    "    return white_space_fix(remove_articles(remove_punc(lower(s))))\n",
    "\n",
    "def compute_exact_match(prediction, truth):\n",
    "    # Tính điểm exact match\n",
    "    return int(normalize_text(prediction) == normalize_text(truth))\n",
    "\n",
    "def compute_f1(prediction, truth):\n",
    "    # Tính điểm F1\n",
    "    pred_tokens = normalize_text(prediction).split()\n",
    "    truth_tokens = normalize_text(truth).split()\n",
    "\n",
    "    # nếu một trong hai là không có đáp án thì F1 = 1 nếu giống nhau, ngược lại là 0\n",
    "    if len(pred_tokens) == 0 or len(truth_tokens) == 0:\n",
    "        return int(pred_tokens == truth_tokens)\n",
    "    \n",
    "    common_tokens = set(pred_tokens) & set(truth_tokens)\n",
    "    \n",
    "    # nếu không có token chung thì F1 = 0\n",
    "    if len(common_tokens) == 0:\n",
    "        return 0\n",
    "    \n",
    "    prec = len(common_tokens) / len(pred_tokens)\n",
    "    rec = len(common_tokens) / len(truth_tokens)\n",
    "    return 2 * (prec * rec) / (prec + rec)"
   ]
  },
  {
   "cell_type": "code",
   "execution_count": null,
   "metadata": {
    "execution": {
     "iopub.execute_input": "2023-11-05T11:51:12.860189Z",
     "iopub.status.busy": "2023-11-05T11:51:12.859371Z",
     "iopub.status.idle": "2023-11-05T11:51:12.865841Z",
     "shell.execute_reply": "2023-11-05T11:51:12.864795Z",
     "shell.execute_reply.started": "2023-11-05T11:51:12.860152Z"
    }
   },
   "outputs": [],
   "source": [
    "def give_an_answer(context,query,answer):\n",
    "    # Hàm in ra dự đoán và điểm số\n",
    "    prediction = predict(context,query)\n",
    "    em_score = compute_exact_match(prediction, answer)\n",
    "    f1_score = compute_f1(prediction, answer)\n",
    "    print(f\"Question: {query}\")\n",
    "    print(f\"Prediction: {prediction}\")\n",
    "    print(f\"True Answer: {answer}\")\n",
    "    print(f\"EM: {em_score}\")\n",
    "    print(f\"F1: {f1_score}\")\n",
    "    print(\"\\n\")"
   ]
  },
  {
   "cell_type": "markdown",
   "metadata": {},
   "source": [
    "# *Bước 16:* Kiểm tra mô hình đã huấn luyện"
   ]
  },
  {
   "cell_type": "markdown",
   "metadata": {},
   "source": [
    "Ở đây tôi đưa ra một số ví dụ cho mô hình BERT đã huấn luyện trên bộ dữ liệu SQuAD 2.0 để xem mô hình hoạt động tốt như thế nào. Tôi bắt đầu với các ví dụ đơn giản rồi đến các ví dụ phức tạp hơn.\n",
    "\n",
    "Với các bài toán QA trích xuất văn bản, thường sử dụng hai chỉ số đánh giá là ***exact match*** và ***F1 score***.\n",
    "\n",
    "***Exact Match***: kiểm tra xem đáp án dự đoán có khớp hoàn toàn với đáp án đúng không. Nếu khớp thì cho 1.0, ngược lại là 0.0.\n",
    "\n",
    "***F1 Score***: tính trung bình số từ trùng giữa đáp án dự đoán và đáp án đúng, đảm bảo tối ưu cả độ chính xác và độ bao phủ.\n",
    "\n",
    "**Như bạn thấy, mô hình của tôi dự đoán đúng tất cả đáp án ở ví dụ đơn giản.**"
   ]
  },
  {
   "cell_type": "code",
   "execution_count": 36,
   "metadata": {
    "execution": {
     "iopub.execute_input": "2023-11-05T11:51:15.307834Z",
     "iopub.status.busy": "2023-11-05T11:51:15.307436Z",
     "iopub.status.idle": "2023-11-05T11:51:15.708394Z",
     "shell.execute_reply": "2023-11-05T11:51:15.707288Z",
     "shell.execute_reply.started": "2023-11-05T11:51:15.307803Z"
    }
   },
   "outputs": [
    {
     "name": "stdout",
     "output_type": "stream",
     "text": [
      "Question: How old is Alexa?\n",
      "Prediction: 21\n",
      "True Answer: 21\n",
      "EM: 1\n",
      "F1: 1.0\n",
      "\n",
      "\n",
      "Question: Where does Alexa live now?\n",
      "Prediction: kaisariani\n",
      "True Answer: Kaisariani of Athens\n",
      "EM: 0\n",
      "F1: 0.5\n",
      "\n",
      "\n",
      "Question: Where Alexa used to live?\n",
      "Prediction: peristeri of athens,\n",
      "True Answer: Peristeri of Athens\n",
      "EM: 1\n",
      "F1: 1.0\n",
      "\n",
      "\n"
     ]
    }
   ],
   "source": [
    "context = \"Hi! My name is Alexa and I am 21 years old. I used to live in Peristeri of Athens, but now I moved on in Kaisariani of Athens.\"\n",
    "\n",
    "queries = [\"How old is Alexa?\",\n",
    "           \"Where does Alexa live now?\",\n",
    "           \"Where Alexa used to live?\"\n",
    "          ]\n",
    "answers = [\"21\",\n",
    "           \"Kaisariani of Athens\",\n",
    "           \"Peristeri of Athens\"\n",
    "          ]\n",
    "\n",
    "for q,a in zip(queries,answers):\n",
    "    give_an_answer(context,q,a)\n"
   ]
  },
  {
   "cell_type": "code",
   "execution_count": 37,
   "metadata": {
    "execution": {
     "iopub.execute_input": "2023-11-05T11:53:09.862573Z",
     "iopub.status.busy": "2023-11-05T11:53:09.862187Z",
     "iopub.status.idle": "2023-11-05T11:53:10.303826Z",
     "shell.execute_reply": "2023-11-05T11:53:10.302875Z",
     "shell.execute_reply.started": "2023-11-05T11:53:09.862542Z"
    }
   },
   "outputs": [
    {
     "name": "stdout",
     "output_type": "stream",
     "text": [
      "Question: When did Queen found?\n",
      "Prediction: 1970.\n",
      "True Answer: 1970\n",
      "EM: 1\n",
      "F1: 1.0\n",
      "\n",
      "\n",
      "Question: Who were the basic members of Queen band?\n",
      "Prediction: freddie mercury ( lead vocals, piano ), brian may ( guitar, vocals ), roger taylor ( drums, vocals ) and john deacon ( bass ).\n",
      "True Answer: Freddie Mercury, Brian May, Roger Taylor and John Deacon\n",
      "EM: 0\n",
      "F1: 0.6923076923076924\n",
      "\n",
      "\n",
      "Question: What kind of band they are?\n",
      "Prediction: rock\n",
      "True Answer: rock\n",
      "EM: 1\n",
      "F1: 1.0\n",
      "\n",
      "\n"
     ]
    }
   ],
   "source": [
    "context = \"\"\" Queen are a British rock band formed in London in 1970. Their classic line-up was Freddie Mercury (lead vocals, piano), \n",
    "            Brian May (guitar, vocals), Roger Taylor (drums, vocals) and John Deacon (bass). Their earliest works were influenced \n",
    "            by progressive rock, hard rock and heavy metal, but the band gradually ventured into more conventional and radio-friendly \n",
    "            works by incorporating further styles, such as arena rock and pop rock. \"\"\"\n",
    "\n",
    "queries = [\"When did Queen found?\",\n",
    "           \"Who were the basic members of Queen band?\",\n",
    "           \"What kind of band they are?\"\n",
    "          ]\n",
    "answers = [\"1970\",\n",
    "           \"Freddie Mercury, Brian May, Roger Taylor and John Deacon\",\n",
    "           \"rock\"\n",
    "          ]\n",
    "\n",
    "for q,a in zip(queries,answers):\n",
    "    give_an_answer(context,q,a)"
   ]
  },
  {
   "cell_type": "code",
   "execution_count": 39,
   "metadata": {
    "execution": {
     "iopub.execute_input": "2023-11-05T11:56:00.967048Z",
     "iopub.status.busy": "2023-11-05T11:56:00.966670Z",
     "iopub.status.idle": "2023-11-05T11:56:01.567798Z",
     "shell.execute_reply": "2023-11-05T11:56:01.567030Z",
     "shell.execute_reply.started": "2023-11-05T11:56:00.967018Z"
    }
   },
   "outputs": [
    {
     "name": "stdout",
     "output_type": "stream",
     "text": [
      "Question: How many metres is Olympus?\n",
      "Prediction: \n",
      "True Answer: 2917\n",
      "EM: 0\n",
      "F1: 0\n",
      "\n",
      "\n",
      "Question: Where Olympus is near?\n",
      "Prediction: gulf of thermai of the aegean sea,\n",
      "True Answer: Gulf of Thérmai of the Aegean Sea\n",
      "EM: 0\n",
      "F1: 0.6666666666666666\n",
      "\n",
      "\n",
      "Question: How far away is Olympus from Thessaloniki?\n",
      "Prediction: 80 km\n",
      "True Answer: 80 km (50 mi)\n",
      "EM: 0\n",
      "F1: 0.6666666666666666\n",
      "\n",
      "\n"
     ]
    }
   ],
   "source": [
    "context = \"\"\" Mount Olympus is the highest mountain in Greece. It is part of the Olympus massif near \n",
    "              the Gulf of Thérmai of the Aegean Sea, located in the Olympus Range on the border between \n",
    "              Thessaly and Macedonia, between the regional units of Pieria and Larissa, about 80 km (50 mi) \n",
    "              southwest from Thessaloniki. Mount Olympus has 52 peaks and deep gorges. The highest peak, \n",
    "              Mytikas, meaning \"nose\", rises to 2917 metres (9,570 ft). It is one of the \n",
    "              highest peaks in Europe in terms of topographic prominence. \"\"\"\n",
    "\n",
    "queries = [\n",
    "           \"How many metres is Olympus?\",\n",
    "           \"Where Olympus is near?\",\n",
    "           \"How far away is Olympus from Thessaloniki?\"\n",
    "          ]\n",
    "answers = [\n",
    "           \"2917\",\n",
    "           \"Gulf of Thérmai of the Aegean Sea\",\n",
    "           \"80 km (50 mi)\"\n",
    "          ]\n",
    "\n",
    "for q,a in zip(queries,answers):\n",
    "    give_an_answer(context,q,a)"
   ]
  },
  {
   "cell_type": "code",
   "execution_count": 41,
   "metadata": {
    "execution": {
     "iopub.execute_input": "2023-11-05T12:02:08.808163Z",
     "iopub.status.busy": "2023-11-05T12:02:08.807764Z",
     "iopub.status.idle": "2023-11-05T12:02:11.725583Z",
     "shell.execute_reply": "2023-11-05T12:02:11.724662Z",
     "shell.execute_reply.started": "2023-11-05T12:02:08.808109Z"
    }
   },
   "outputs": [
    {
     "name": "stdout",
     "output_type": "stream",
     "text": [
      "Question: What is COVID-19?\n",
      "Prediction: coronavirus disease 2019\n",
      "True Answer: an ongoing pandemic of coronavirus disease 2019\n",
      "EM: 0\n",
      "F1: 0.6666666666666666\n",
      "\n",
      "\n",
      "Question: What is caused by COVID-19?\n",
      "Prediction: severe acute respiratory syndrome coronavirus 2\n",
      "True Answer: severe acute respiratory syndrome coronavirus 2 (SARS-CoV-2)\n",
      "EM: 0\n",
      "F1: 0.923076923076923\n",
      "\n",
      "\n",
      "Question: How many cases have been confirmed from COVID-19?\n",
      "Prediction: more than 105 million\n",
      "True Answer: more than 105 million cases\n",
      "EM: 0\n",
      "F1: 0.888888888888889\n",
      "\n",
      "\n",
      "Question: How many deaths have been confirmed from COVID-19?\n",
      "Prediction: 2. 3 million\n",
      "True Answer: more than 2.3 million deaths\n",
      "EM: 0\n",
      "F1: 0.25\n",
      "\n",
      "\n",
      "Question: How is COVID-19 spread?\n",
      "Prediction: mainly through the air when people are near each other.\n",
      "True Answer: mainly through the air when people are near each other. It leaves an infected person as they breathe, cough, sneeze, or speak and enters another person via their mouth, nose, or eyes. It may also spread via contaminated surfaces.\n",
      "EM: 0\n",
      "F1: 0.391304347826087\n",
      "\n",
      "\n",
      "Question: How long can an infected person remain infected?\n",
      "Prediction: two weeks\n",
      "True Answer: up to two weeks\n",
      "EM: 0\n",
      "F1: 0.6666666666666666\n",
      "\n",
      "\n",
      "Question: Can a infected person spread the virus even if they don't have symptoms?\n",
      "Prediction: \n",
      "True Answer: yes\n",
      "EM: 0\n",
      "F1: 0\n",
      "\n",
      "\n",
      "Question: What do elephants eat?\n",
      "Prediction: elephants\n",
      "True Answer:  \n",
      "EM: 0\n",
      "F1: 0\n",
      "\n",
      "\n"
     ]
    }
   ],
   "source": [
    "context = \"\"\" The COVID-19 pandemic, also known as the coronavirus pandemic, is an ongoing pandemic of coronavirus disease 2019 (COVID-19) \n",
    "              caused by severe acute respiratory syndrome coronavirus 2 (SARS-CoV-2). It was first identified in December 2019 in Wuhan, China. \n",
    "              The World Health Organization declared the outbreak a Public Health Emergency of International Concern in January 2020 and a pandemic \n",
    "              in March 2020. As of 6 February 2021, more than 105 million cases have been confirmed, with more than 2.3 million deaths attributed to COVID-19.\n",
    "              Symptoms of COVID-19 are highly variable, ranging from none to severe illness. The virus spreads mainly through the air when people are \n",
    "              near each other.[b] It leaves an infected person as they breathe, cough, sneeze, or speak and enters another person via their mouth, nose, or eyes. \n",
    "              It may also spread via contaminated surfaces. People remain infectious for up to two weeks, and can spread the virus even if they do not show symptoms.[9]\"\"\"\n",
    "\n",
    "queries = [\n",
    "           \"What is COVID-19?\",\n",
    "           \"What is caused by COVID-19?\",\n",
    "           \"How many cases have been confirmed from COVID-19?\",\n",
    "           \"How many deaths have been confirmed from COVID-19?\",\n",
    "           \"How is COVID-19 spread?\",\n",
    "           \"How long can an infected person remain infected?\",\n",
    "           \"Can a infected person spread the virus even if they don't have symptoms?\",\n",
    "           \"What do elephants eat?\"\n",
    "          ]\n",
    "answers = [\n",
    "           \"an ongoing pandemic of coronavirus disease 2019\",\n",
    "           \"severe acute respiratory syndrome coronavirus 2 (SARS-CoV-2)\",\n",
    "           \"more than 105 million cases\",\n",
    "           \"more than 2.3 million deaths\",\n",
    "           \"mainly through the air when people are near each other. It leaves an infected person as they breathe, cough, sneeze, or speak and enters another person via their mouth, nose, or eyes. It may also spread via contaminated surfaces.\",\n",
    "           \"up to two weeks\",\n",
    "           \"yes\",\n",
    "           \" \"\n",
    "          ]\n",
    "\n",
    "for q,a in zip(queries,answers):\n",
    "      give_an_answer(context,q,a)"
   ]
  },
  {
   "cell_type": "code",
   "execution_count": 42,
   "metadata": {
    "execution": {
     "iopub.execute_input": "2023-11-05T12:04:19.581560Z",
     "iopub.status.busy": "2023-11-05T12:04:19.580228Z",
     "iopub.status.idle": "2023-11-05T12:04:22.039443Z",
     "shell.execute_reply": "2023-11-05T12:04:22.038488Z",
     "shell.execute_reply.started": "2023-11-05T12:04:19.581499Z"
    }
   },
   "outputs": [
    {
     "name": "stdout",
     "output_type": "stream",
     "text": [
      "Question: Who wrote Harry Potter's novels?\n",
      "Prediction: j. k. rowling.\n",
      "True Answer: J. K. Rowling\n",
      "EM: 1\n",
      "F1: 1.0\n",
      "\n",
      "\n",
      "Question: Who are Harry Potter's friends?\n",
      "Prediction: hermione granger and ron weasley,\n",
      "True Answer: Hermione Granger and Ron Weasley\n",
      "EM: 1\n",
      "F1: 1.0\n",
      "\n",
      "\n",
      "Question: Who is the enemy of Harry Potter?\n",
      "Prediction: j. k. rowling.\n",
      "True Answer: Lord Voldemort\n",
      "EM: 0\n",
      "F1: 0\n",
      "\n",
      "\n",
      "Question: What are Muggles?\n",
      "Prediction: non - magical people )\n",
      "True Answer: non-magical people\n",
      "EM: 0\n",
      "F1: 0.4\n",
      "\n",
      "\n",
      "Question: Which is the name of Harry Poter's first novel?\n",
      "Prediction: \n",
      "True Answer: Harry Potter and the Philosopher's Stone\n",
      "EM: 0\n",
      "F1: 0\n",
      "\n",
      "\n",
      "Question: When did the first novel release?\n",
      "Prediction: 26 june 1997,\n",
      "True Answer: 26 June 1997\n",
      "EM: 1\n",
      "F1: 1.0\n",
      "\n",
      "\n",
      "Question: Who was attracted by Harry Potter novels?\n",
      "Prediction: j. k. rowling. the novels chronicle the lives of a young wizard, harry potter, and his friends hermione granger and ron weasley,\n",
      "True Answer: a wide adult audience as well as younger readers\n",
      "EM: 0\n",
      "F1: 0\n",
      "\n",
      "\n",
      "Question: How many languages Harry Potter has been translated into? \n",
      "Prediction: eighty\n",
      "True Answer: eighty\n",
      "EM: 1\n",
      "F1: 1.0\n",
      "\n",
      "\n"
     ]
    }
   ],
   "source": [
    "context = \"\"\" Harry Potter is a series of seven fantasy novels written by British author, J. K. Rowling. The novels chronicle the lives of a young wizard, \n",
    "              Harry Potter, and his friends Hermione Granger and Ron Weasley, all of whom are students at Hogwarts School of Witchcraft and Wizardry. \n",
    "              The main story arc concerns Harry's struggle against Lord Voldemort, a dark wizard who intends to become immortal, overthrow the wizard \n",
    "              governing body known as the Ministry of Magic and subjugate all wizards and Muggles (non-magical people). Since the release of the first novel, \n",
    "              Harry Potter and the Philosopher's Stone, on 26 June 1997, the books have found immense popularity, positive reviews, and commercial success worldwide. \n",
    "              They have attracted a wide adult audience as well as younger readers and are often considered cornerstones of modern young adult literature.[2] \n",
    "              As of February 2018, the books have sold more than 500 million copies worldwide, making them the best-selling book series in history, and have been translated \n",
    "              into eighty languages.[3] The last four books consecutively set records as the fastest-selling books in history, with the final installment selling roughly \n",
    "              eleven million copies in the United States within twenty-four hours of its release.  \"\"\"\n",
    "\n",
    "queries = [\n",
    "           \"Who wrote Harry Potter's novels?\",\n",
    "           \"Who are Harry Potter's friends?\",\n",
    "           \"Who is the enemy of Harry Potter?\",\n",
    "           \"What are Muggles?\",\n",
    "           \"Which is the name of Harry Poter's first novel?\",\n",
    "           \"When did the first novel release?\",\n",
    "           \"Who was attracted by Harry Potter novels?\",\n",
    "           \"How many languages Harry Potter has been translated into? \"\n",
    "          ]\n",
    "answers = [\n",
    "           \"J. K. Rowling\",\n",
    "           \"Hermione Granger and Ron Weasley\",\n",
    "           \"Lord Voldemort\",\n",
    "           \"non-magical people\",\n",
    "           \"Harry Potter and the Philosopher's Stone\",\n",
    "           \"26 June 1997\",\n",
    "           \"a wide adult audience as well as younger readers\",\n",
    "           \"eighty\"\n",
    "          ]\n",
    "\n",
    "for q,a in zip(queries,answers):\n",
    "      give_an_answer(context,q,a)"
   ]
  },
  {
   "cell_type": "markdown",
   "metadata": {},
   "source": [
    "# *Bước 17:* Kiểm tra mô hình BERT đã huấn luyện sẵn"
   ]
  },
  {
   "cell_type": "code",
   "execution_count": null,
   "metadata": {
    "execution": {
     "iopub.execute_input": "2023-11-05T12:15:30.245813Z",
     "iopub.status.busy": "2023-11-05T12:15:30.245407Z",
     "iopub.status.idle": "2023-11-05T12:15:39.219079Z",
     "shell.execute_reply": "2023-11-05T12:15:39.218166Z",
     "shell.execute_reply.started": "2023-11-05T12:15:30.245783Z"
    }
   },
   "outputs": [
    {
     "data": {
      "application/vnd.jupyter.widget-view+json": {
       "model_id": "e9ee7d32b2ee43bdba12cd83473e4d19",
       "version_major": 2,
       "version_minor": 0
      },
      "text/plain": [
       "Downloading (…)okenizer_config.json:   0%|          | 0.00/28.0 [00:00<?, ?B/s]"
      ]
     },
     "metadata": {},
     "output_type": "display_data"
    },
    {
     "data": {
      "application/vnd.jupyter.widget-view+json": {
       "model_id": "c571e0c397e64c8880e558b066bb51ae",
       "version_major": 2,
       "version_minor": 0
      },
      "text/plain": [
       "Downloading (…)lve/main/config.json:   0%|          | 0.00/443 [00:00<?, ?B/s]"
      ]
     },
     "metadata": {},
     "output_type": "display_data"
    },
    {
     "data": {
      "application/vnd.jupyter.widget-view+json": {
       "model_id": "28a959dc59a74c3dab262e254cc470cf",
       "version_major": 2,
       "version_minor": 0
      },
      "text/plain": [
       "Downloading (…)solve/main/vocab.txt:   0%|          | 0.00/232k [00:00<?, ?B/s]"
      ]
     },
     "metadata": {},
     "output_type": "display_data"
    },
    {
     "data": {
      "application/vnd.jupyter.widget-view+json": {
       "model_id": "f1d6595f28d3418caba72b5b7cbf76c0",
       "version_major": 2,
       "version_minor": 0
      },
      "text/plain": [
       "Downloading (…)/main/tokenizer.json:   0%|          | 0.00/466k [00:00<?, ?B/s]"
      ]
     },
     "metadata": {},
     "output_type": "display_data"
    },
    {
     "data": {
      "application/vnd.jupyter.widget-view+json": {
       "model_id": "307a36be5e7b417d9c8fa4782ff72d23",
       "version_major": 2,
       "version_minor": 0
      },
      "text/plain": [
       "Downloading model.safetensors:   0%|          | 0.00/1.34G [00:00<?, ?B/s]"
      ]
     },
     "metadata": {},
     "output_type": "display_data"
    },
    {
     "data": {
      "text/plain": [
       "BertForQuestionAnswering(\n",
       "  (bert): BertModel(\n",
       "    (embeddings): BertEmbeddings(\n",
       "      (word_embeddings): Embedding(30522, 1024, padding_idx=0)\n",
       "      (position_embeddings): Embedding(512, 1024)\n",
       "      (token_type_embeddings): Embedding(2, 1024)\n",
       "      (LayerNorm): LayerNorm((1024,), eps=1e-12, elementwise_affine=True)\n",
       "      (dropout): Dropout(p=0.1, inplace=False)\n",
       "    )\n",
       "    (encoder): BertEncoder(\n",
       "      (layer): ModuleList(\n",
       "        (0-23): 24 x BertLayer(\n",
       "          (attention): BertAttention(\n",
       "            (self): BertSelfAttention(\n",
       "              (query): Linear(in_features=1024, out_features=1024, bias=True)\n",
       "              (key): Linear(in_features=1024, out_features=1024, bias=True)\n",
       "              (value): Linear(in_features=1024, out_features=1024, bias=True)\n",
       "              (dropout): Dropout(p=0.1, inplace=False)\n",
       "            )\n",
       "            (output): BertSelfOutput(\n",
       "              (dense): Linear(in_features=1024, out_features=1024, bias=True)\n",
       "              (LayerNorm): LayerNorm((1024,), eps=1e-12, elementwise_affine=True)\n",
       "              (dropout): Dropout(p=0.1, inplace=False)\n",
       "            )\n",
       "          )\n",
       "          (intermediate): BertIntermediate(\n",
       "            (dense): Linear(in_features=1024, out_features=4096, bias=True)\n",
       "            (intermediate_act_fn): GELUActivation()\n",
       "          )\n",
       "          (output): BertOutput(\n",
       "            (dense): Linear(in_features=4096, out_features=1024, bias=True)\n",
       "            (LayerNorm): LayerNorm((1024,), eps=1e-12, elementwise_affine=True)\n",
       "            (dropout): Dropout(p=0.1, inplace=False)\n",
       "          )\n",
       "        )\n",
       "      )\n",
       "    )\n",
       "  )\n",
       "  (qa_outputs): Linear(in_features=1024, out_features=2, bias=True)\n",
       ")"
      ]
     },
     "execution_count": 44,
     "metadata": {},
     "output_type": "execute_result"
    }
   ],
   "source": [
    "# Khởi tạo tokenizer cho bert\n",
    "tokenizer = AutoTokenizer.from_pretrained('bert-large-uncased-whole-word-masking-finetuned-squad')\n",
    "\n",
    "# Tải mô hình đã fine-tune\n",
    "model = BertForQuestionAnswering.from_pretrained('bert-large-uncased-whole-word-masking-finetuned-squad')\n",
    "model.eval()"
   ]
  },
  {
   "cell_type": "code",
   "execution_count": null,
   "metadata": {
    "execution": {
     "iopub.execute_input": "2023-11-05T12:19:54.656856Z",
     "iopub.status.busy": "2023-11-05T12:19:54.656473Z",
     "iopub.status.idle": "2023-11-05T12:19:54.668855Z",
     "shell.execute_reply": "2023-11-05T12:19:54.667744Z",
     "shell.execute_reply.started": "2023-11-05T12:19:54.656823Z"
    }
   },
   "outputs": [],
   "source": [
    "def predict(context,query):\n",
    "    # Hàm dự đoán trả lời câu hỏi\n",
    "    inputs = tokenizer.encode_plus(query, context, return_tensors='pt')\n",
    "    outputs = model(**inputs)\n",
    "    answer_start = torch.argmax(outputs[0])  # lấy vị trí bắt đầu có xác suất cao nhất\n",
    "    answer_end = torch.argmax(outputs[1]) + 1 \n",
    "    answer = tokenizer.convert_tokens_to_string(tokenizer.convert_ids_to_tokens(inputs['input_ids'][0][answer_start:answer_end]))\n",
    "    return answer\n",
    "\n",
    "def normalize_text(s):\n",
    "    \"\"\"Loại bỏ mạo từ, dấu câu và chuẩn hóa khoảng trắng là các bước xử lý văn bản phổ biến.\"\"\"\n",
    "    import string, re\n",
    "    def remove_articles(text):\n",
    "        regex = re.compile(r\"\\b(a|an|the)\\b\", re.UNICODE)\n",
    "        return re.sub(regex, \" \", text)\n",
    "    \n",
    "    def white_space_fix(text):\n",
    "        return \" \".join(text.split())\n",
    "    \n",
    "    def remove_punc(text):\n",
    "        exclude = set(string.punctuation)\n",
    "        return \"\".join(ch for ch in text if ch not in exclude)\n",
    "    \n",
    "    def lower(text):\n",
    "        return text.lower()\n",
    "    \n",
    "    return white_space_fix(remove_articles(remove_punc(lower(s))))\n",
    "\n",
    "def compute_exact_match(prediction, truth):\n",
    "    # Tính điểm exact match\n",
    "    return int(normalize_text(prediction) == normalize_text(truth))\n",
    "\n",
    "def compute_f1(prediction, truth):\n",
    "    # Tính điểm F1\n",
    "    pred_tokens = normalize_text(prediction).split()\n",
    "    truth_tokens = normalize_text(truth).split()\n",
    "\n",
    "    # nếu một trong hai là không có đáp án thì F1 = 1 nếu giống nhau, ngược lại là 0\n",
    "    if len(pred_tokens) == 0 or len(truth_tokens) == 0:\n",
    "        return int(pred_tokens == truth_tokens)\n",
    "    \n",
    "    common_tokens = set(pred_tokens) & set(truth_tokens)\n",
    "    \n",
    "    # nếu không có token chung thì F1 = 0\n",
    "    if len(common_tokens) == 0:\n",
    "        return 0\n",
    "    \n",
    "    prec = len(common_tokens) / len(pred_tokens)\n",
    "    rec = len(common_tokens) / len(truth_tokens)\n",
    "    return 2 * (prec * rec) / (prec + rec)"
   ]
  },
  {
   "cell_type": "code",
   "execution_count": null,
   "metadata": {
    "execution": {
     "iopub.execute_input": "2023-11-05T12:20:26.001632Z",
     "iopub.status.busy": "2023-11-05T12:20:26.001232Z",
     "iopub.status.idle": "2023-11-05T12:20:26.007656Z",
     "shell.execute_reply": "2023-11-05T12:20:26.006568Z",
     "shell.execute_reply.started": "2023-11-05T12:20:26.001600Z"
    }
   },
   "outputs": [],
   "source": [
    "def give_an_answer(context,query,answer):\n",
    "    # Hàm in ra dự đoán và điểm số\n",
    "    prediction = predict(context,query)\n",
    "    em_score = compute_exact_match(prediction, answer)\n",
    "    f1_score = compute_f1(prediction, answer)\n",
    "    print(f\"Question: {query}\")\n",
    "    print(f\"Prediction: {prediction}\")\n",
    "    print(f\"True Answer: {answer}\")\n",
    "    print(f\"EM: {em_score}\")\n",
    "    print(f\"F1: {f1_score}\")\n",
    "    print(\"\\n\")"
   ]
  },
  {
   "cell_type": "code",
   "execution_count": 47,
   "metadata": {
    "execution": {
     "iopub.execute_input": "2023-11-05T12:21:15.597516Z",
     "iopub.status.busy": "2023-11-05T12:21:15.596895Z",
     "iopub.status.idle": "2023-11-05T12:21:16.633182Z",
     "shell.execute_reply": "2023-11-05T12:21:16.632215Z",
     "shell.execute_reply.started": "2023-11-05T12:21:15.597483Z"
    }
   },
   "outputs": [
    {
     "name": "stdout",
     "output_type": "stream",
     "text": [
      "Question: How old is Alexa?\n",
      "Prediction: 21\n",
      "True Answer: 21\n",
      "EM: 1\n",
      "F1: 1.0\n",
      "\n",
      "\n",
      "Question: Where does Alexa live now?\n",
      "Prediction: kaisariani of athens\n",
      "True Answer: Kaisariani of Athens\n",
      "EM: 1\n",
      "F1: 1.0\n",
      "\n",
      "\n",
      "Question: Where Alexa used to live?\n",
      "Prediction: peristeri of athens\n",
      "True Answer: Peristeri of Athens\n",
      "EM: 1\n",
      "F1: 1.0\n",
      "\n",
      "\n"
     ]
    }
   ],
   "source": [
    "context = \"Hi! My name is Alexa and I am 21 years old. I used to live in Peristeri of Athens, but now I moved on in Kaisariani of Athens.\"\n",
    "\n",
    "queries = [\"How old is Alexa?\",\n",
    "           \"Where does Alexa live now?\",\n",
    "           \"Where Alexa used to live?\"\n",
    "          ]\n",
    "answers = [\"21\",\n",
    "           \"Kaisariani of Athens\",\n",
    "           \"Peristeri of Athens\"\n",
    "          ]\n",
    "\n",
    "for q,a in zip(queries,answers):\n",
    "    give_an_answer(context,q,a)"
   ]
  },
  {
   "cell_type": "code",
   "execution_count": 48,
   "metadata": {
    "execution": {
     "iopub.execute_input": "2023-11-05T12:21:53.587436Z",
     "iopub.status.busy": "2023-11-05T12:21:53.586571Z",
     "iopub.status.idle": "2023-11-05T12:21:55.218956Z",
     "shell.execute_reply": "2023-11-05T12:21:55.217982Z",
     "shell.execute_reply.started": "2023-11-05T12:21:53.587405Z"
    }
   },
   "outputs": [
    {
     "name": "stdout",
     "output_type": "stream",
     "text": [
      "Question: When did Queen found?\n",
      "Prediction: 1970\n",
      "True Answer: 1970\n",
      "EM: 1\n",
      "F1: 1.0\n",
      "\n",
      "\n",
      "Question: Who were the basic members of Queen band?\n",
      "Prediction: freddie mercury ( lead vocals, piano ), brian may ( guitar, vocals ), roger taylor ( drums, vocals ) and john deacon ( bass )\n",
      "True Answer: Freddie Mercury, Brian May, Roger Taylor and John Deacon\n",
      "EM: 0\n",
      "F1: 0.6923076923076924\n",
      "\n",
      "\n",
      "Question: What kind of band they are?\n",
      "Prediction: british rock\n",
      "True Answer: rock\n",
      "EM: 0\n",
      "F1: 0.6666666666666666\n",
      "\n",
      "\n"
     ]
    }
   ],
   "source": [
    "context = \"\"\" Queen are a British rock band formed in London in 1970. Their classic line-up was Freddie Mercury (lead vocals, piano), \n",
    "            Brian May (guitar, vocals), Roger Taylor (drums, vocals) and John Deacon (bass). Their earliest works were influenced \n",
    "            by progressive rock, hard rock and heavy metal, but the band gradually ventured into more conventional and radio-friendly \n",
    "            works by incorporating further styles, such as arena rock and pop rock. \"\"\"\n",
    "\n",
    "queries = [\"When did Queen found?\",\n",
    "           \"Who were the basic members of Queen band?\",\n",
    "           \"What kind of band they are?\"\n",
    "          ]\n",
    "answers = [\"1970\",\n",
    "           \"Freddie Mercury, Brian May, Roger Taylor and John Deacon\",\n",
    "           \"rock\"\n",
    "          ]\n",
    "\n",
    "for q,a in zip(queries,answers):\n",
    "    give_an_answer(context,q,a)"
   ]
  },
  {
   "cell_type": "code",
   "execution_count": 49,
   "metadata": {
    "execution": {
     "iopub.execute_input": "2023-11-05T12:23:04.826856Z",
     "iopub.status.busy": "2023-11-05T12:23:04.825929Z",
     "iopub.status.idle": "2023-11-05T12:23:12.676878Z",
     "shell.execute_reply": "2023-11-05T12:23:12.675913Z",
     "shell.execute_reply.started": "2023-11-05T12:23:04.826813Z"
    }
   },
   "outputs": [
    {
     "name": "stdout",
     "output_type": "stream",
     "text": [
      "Question: What is COVID-19?\n",
      "Prediction: an ongoing pandemic of coronavirus disease 2019\n",
      "True Answer: an ongoing pandemic of coronavirus disease 2019\n",
      "EM: 1\n",
      "F1: 1.0\n",
      "\n",
      "\n",
      "Question: What is caused by COVID-19?\n",
      "Prediction: coronavirus disease 2019\n",
      "True Answer: severe acute respiratory syndrome coronavirus 2 (SARS-CoV-2)\n",
      "EM: 0\n",
      "F1: 0.2\n",
      "\n",
      "\n",
      "Question: How many cases have been confirmed from COVID-19?\n",
      "Prediction: more than 105 million\n",
      "True Answer: more than 105 million cases\n",
      "EM: 0\n",
      "F1: 0.888888888888889\n",
      "\n",
      "\n",
      "Question: How many deaths have been confirmed from COVID-19?\n",
      "Prediction: 2. 3 million\n",
      "True Answer: more than 2.3 million deaths\n",
      "EM: 0\n",
      "F1: 0.25\n",
      "\n",
      "\n",
      "Question: How is COVID-19 spread?\n",
      "Prediction: through the air when people are near each other\n",
      "True Answer: mainly through the air when people are near each other. It leaves an infected person as they breathe, cough, sneeze, or speak and enters another person via their mouth, nose, or eyes. It may also spread via contaminated surfaces.\n",
      "EM: 0\n",
      "F1: 0.35555555555555557\n",
      "\n",
      "\n",
      "Question: How long can an infected person remain infected?\n",
      "Prediction: up to two weeks\n",
      "True Answer: up to two weeks\n",
      "EM: 1\n",
      "F1: 1.0\n",
      "\n",
      "\n",
      "Question: Can a infected person spread the virus even if they don't have symptoms?\n",
      "Prediction: can spread the virus even if they do not show symptoms\n",
      "True Answer: yes\n",
      "EM: 0\n",
      "F1: 0\n",
      "\n",
      "\n",
      "Question: What do elephants eat?\n",
      "Prediction: [SEP]\n",
      "True Answer:  \n",
      "EM: 0\n",
      "F1: 0\n",
      "\n",
      "\n"
     ]
    }
   ],
   "source": [
    "context = \"\"\" The COVID-19 pandemic, also known as the coronavirus pandemic, is an ongoing pandemic of coronavirus disease 2019 (COVID-19) \n",
    "              caused by severe acute respiratory syndrome coronavirus 2 (SARS-CoV-2). It was first identified in December 2019 in Wuhan, China. \n",
    "              The World Health Organization declared the outbreak a Public Health Emergency of International Concern in January 2020 and a pandemic \n",
    "              in March 2020. As of 6 February 2021, more than 105 million cases have been confirmed, with more than 2.3 million deaths attributed to COVID-19.\n",
    "              Symptoms of COVID-19 are highly variable, ranging from none to severe illness. The virus spreads mainly through the air when people are \n",
    "              near each other.[b] It leaves an infected person as they breathe, cough, sneeze, or speak and enters another person via their mouth, nose, or eyes. \n",
    "              It may also spread via contaminated surfaces. People remain infectious for up to two weeks, and can spread the virus even if they do not show symptoms.[9]\"\"\"\n",
    "\n",
    "queries = [\n",
    "           \"What is COVID-19?\",\n",
    "           \"What is caused by COVID-19?\",\n",
    "           \"How many cases have been confirmed from COVID-19?\",\n",
    "           \"How many deaths have been confirmed from COVID-19?\",\n",
    "           \"How is COVID-19 spread?\",\n",
    "           \"How long can an infected person remain infected?\",\n",
    "           \"Can a infected person spread the virus even if they don't have symptoms?\",\n",
    "           \"What do elephants eat?\"\n",
    "          ]\n",
    "answers = [\n",
    "           \"an ongoing pandemic of coronavirus disease 2019\",\n",
    "           \"severe acute respiratory syndrome coronavirus 2 (SARS-CoV-2)\",\n",
    "           \"more than 105 million cases\",\n",
    "           \"more than 2.3 million deaths\",\n",
    "           \"mainly through the air when people are near each other. It leaves an infected person as they breathe, cough, sneeze, or speak and enters another person via their mouth, nose, or eyes. It may also spread via contaminated surfaces.\",\n",
    "           \"up to two weeks\",\n",
    "           \"yes\",\n",
    "           \" \"\n",
    "          ]\n",
    "\n",
    "for q,a in zip(queries,answers):\n",
    "      give_an_answer(context,q,a)"
   ]
  },
  {
   "cell_type": "code",
   "execution_count": 50,
   "metadata": {
    "execution": {
     "iopub.execute_input": "2023-11-05T12:25:43.306992Z",
     "iopub.status.busy": "2023-11-05T12:25:43.306101Z",
     "iopub.status.idle": "2023-11-05T12:25:51.575514Z",
     "shell.execute_reply": "2023-11-05T12:25:51.574568Z",
     "shell.execute_reply.started": "2023-11-05T12:25:43.306958Z"
    }
   },
   "outputs": [
    {
     "name": "stdout",
     "output_type": "stream",
     "text": [
      "Question: Who wrote Harry Potter's novels?\n",
      "Prediction: j. k. rowling\n",
      "True Answer: J. K. Rowling\n",
      "EM: 1\n",
      "F1: 1.0\n",
      "\n",
      "\n",
      "Question: Who are Harry Potter's friends?\n",
      "Prediction: hermione granger and ron weasley\n",
      "True Answer: Hermione Granger and Ron Weasley\n",
      "EM: 1\n",
      "F1: 1.0\n",
      "\n",
      "\n",
      "Question: Who is the enemy of Harry Potter?\n",
      "Prediction: lord voldemort\n",
      "True Answer: Lord Voldemort\n",
      "EM: 1\n",
      "F1: 1.0\n",
      "\n",
      "\n",
      "Question: What are Muggles?\n",
      "Prediction: non - magical people\n",
      "True Answer: non-magical people\n",
      "EM: 0\n",
      "F1: 0.4\n",
      "\n",
      "\n",
      "Question: Which is the name of Harry Poter's first novel?\n",
      "Prediction: harry potter and the philosopher ' s stone\n",
      "True Answer: Harry Potter and the Philosopher's Stone\n",
      "EM: 0\n",
      "F1: 0.7272727272727272\n",
      "\n",
      "\n",
      "Question: When did the first novel release?\n",
      "Prediction: 26 june 1997\n",
      "True Answer: 26 June 1997\n",
      "EM: 1\n",
      "F1: 1.0\n",
      "\n",
      "\n",
      "Question: Who was attracted by Harry Potter novels?\n",
      "Prediction: wide adult audience as well as younger readers\n",
      "True Answer: a wide adult audience as well as younger readers\n",
      "EM: 1\n",
      "F1: 0.875\n",
      "\n",
      "\n",
      "Question: How many languages Harry Potter has been translated into? \n",
      "Prediction: eighty\n",
      "True Answer: eighty\n",
      "EM: 1\n",
      "F1: 1.0\n",
      "\n",
      "\n"
     ]
    }
   ],
   "source": [
    "context = \"\"\" Harry Potter is a series of seven fantasy novels written by British author, J. K. Rowling. The novels chronicle the lives of a young wizard, \n",
    "              Harry Potter, and his friends Hermione Granger and Ron Weasley, all of whom are students at Hogwarts School of Witchcraft and Wizardry. \n",
    "              The main story arc concerns Harry's struggle against Lord Voldemort, a dark wizard who intends to become immortal, overthrow the wizard \n",
    "              governing body known as the Ministry of Magic and subjugate all wizards and Muggles (non-magical people). Since the release of the first novel, \n",
    "              Harry Potter and the Philosopher's Stone, on 26 June 1997, the books have found immense popularity, positive reviews, and commercial success worldwide. \n",
    "              They have attracted a wide adult audience as well as younger readers and are often considered cornerstones of modern young adult literature.[2] \n",
    "              As of February 2018, the books have sold more than 500 million copies worldwide, making them the best-selling book series in history, and have been translated \n",
    "              into eighty languages.[3] The last four books consecutively set records as the fastest-selling books in history, with the final installment selling roughly \n",
    "              eleven million copies in the United States within twenty-four hours of its release.  \"\"\"\n",
    "\n",
    "queries = [\n",
    "           \"Who wrote Harry Potter's novels?\",\n",
    "           \"Who are Harry Potter's friends?\",\n",
    "           \"Who is the enemy of Harry Potter?\",\n",
    "           \"What are Muggles?\",\n",
    "           \"Which is the name of Harry Poter's first novel?\",\n",
    "           \"When did the first novel release?\",\n",
    "           \"Who was attracted by Harry Potter novels?\",\n",
    "           \"How many languages Harry Potter has been translated into? \"\n",
    "          ]\n",
    "answers = [\n",
    "           \"J. K. Rowling\",\n",
    "           \"Hermione Granger and Ron Weasley\",\n",
    "           \"Lord Voldemort\",\n",
    "           \"non-magical people\",\n",
    "           \"Harry Potter and the Philosopher's Stone\",\n",
    "           \"26 June 1997\",\n",
    "           \"a wide adult audience as well as younger readers\",\n",
    "           \"eighty\"\n",
    "          ]\n",
    "\n",
    "for q,a in zip(queries,answers):\n",
    "      give_an_answer(context,q,a)"
   ]
  },
  {
   "cell_type": "markdown",
   "metadata": {},
   "source": [
    "# *Bước 18:* Tổng kết"
   ]
  },
  {
   "cell_type": "markdown",
   "metadata": {},
   "source": [
    "Tôi nhận thấy, nhìn chung với các câu hỏi có chứa từ hoặc cụm từ xuất hiện trong đoạn văn thì mô hình trả lời rất tốt.\n",
    "Đôi khi với các câu hỏi phức tạp hoặc không rõ ràng, mô hình vẫn cho kết quả khá ổn.\n",
    "Với việc tôi chỉ huấn luyện mô hình trong 3 epoch và không kiểm soát overfitting, kết quả đạt được là rất tốt.\n",
    "Tôi cũng so sánh kết quả với mô hình đã fine-tune sẵn \"bert-large-uncased-whole-word-masking-finetuned-squad\"."
   ]
  },
  {
   "cell_type": "code",
   "execution_count": null,
   "metadata": {
    "execution": {
     "iopub.execute_input": "2023-11-05T12:55:11.312062Z",
     "iopub.status.busy": "2023-11-05T12:55:11.311431Z",
     "iopub.status.idle": "2023-11-05T12:55:13.631360Z",
     "shell.execute_reply": "2023-11-05T12:55:13.630297Z",
     "shell.execute_reply.started": "2023-11-05T12:55:11.312028Z"
    }
   },
   "outputs": [],
   "source": [
    "# Lưu mô hình vào Google Drive\n",
    "torch.save(model, '/kaggle/working/bert_finetunedmodel')"
   ]
  },
  {
   "cell_type": "code",
   "execution_count": null,
   "metadata": {
    "execution": {
     "iopub.execute_input": "2023-11-05T13:02:39.363207Z",
     "iopub.status.busy": "2023-11-05T13:02:39.362807Z",
     "iopub.status.idle": "2023-11-05T13:02:39.369723Z",
     "shell.execute_reply": "2023-11-05T13:02:39.368818Z",
     "shell.execute_reply.started": "2023-11-05T13:02:39.363177Z"
    }
   },
   "outputs": [],
   "source": [
    "import os\n",
    "import subprocess\n",
    "from IPython.display import FileLink, display\n",
    "\n",
    "# Hàm nén file và tạo link tải\n",
    "def download_file(path, download_file_name):\n",
    "    os.chdir('/kaggle/working/')\n",
    "    zip_name = f\"/kaggle/working/{download_file_name}.zip\"\n",
    "    command = f\"zip {zip_name} {path} -r\"\n",
    "    result = subprocess.run(command, shell=True, capture_output=True, text=True)\n",
    "    if result.returncode != 0:\n",
    "        print(\"Unable to run zip command!\")\n",
    "        print(result.stderr)\n",
    "        return\n",
    "    display(FileLink(f'{download_file_name}.zip'))"
   ]
  },
  {
   "cell_type": "code",
   "execution_count": null,
   "metadata": {
    "execution": {
     "iopub.execute_input": "2023-11-05T13:03:28.966862Z",
     "iopub.status.busy": "2023-11-05T13:03:28.966428Z",
     "iopub.status.idle": "2023-11-05T13:04:40.540258Z",
     "shell.execute_reply": "2023-11-05T13:04:40.539339Z",
     "shell.execute_reply.started": "2023-11-05T13:03:28.966829Z"
    }
   },
   "outputs": [
    {
     "data": {
      "text/html": [
       "<a href='bert_finetunedmodel.zip' target='_blank'>bert_finetunedmodel.zip</a><br>"
      ],
      "text/plain": [
       "/kaggle/working/bert_finetunedmodel.zip"
      ]
     },
     "metadata": {},
     "output_type": "display_data"
    }
   ],
   "source": [
    "# Tải file mô hình đã lưu\n",
    "download_file('/kaggle/working/bert_finetunedmodel', 'bert_finetunedmodel')\n"
   ]
  }
 ],
 "metadata": {
  "kernelspec": {
   "display_name": "Python 3 (ipykernel)",
   "language": "python",
   "name": "python3"
  },
  "language_info": {
   "codemirror_mode": {
    "name": "ipython",
    "version": 3
   },
   "file_extension": ".py",
   "mimetype": "text/x-python",
   "name": "python",
   "nbconvert_exporter": "python",
   "pygments_lexer": "ipython3",
   "version": "3.8.10"
  }
 },
 "nbformat": 4,
 "nbformat_minor": 4
}
